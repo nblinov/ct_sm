{
 "metadata": {
  "name": ""
 },
 "nbformat": 3,
 "nbformat_minor": 0,
 "worksheets": [
  {
   "cells": [
    {
     "cell_type": "code",
     "collapsed": false,
     "input": [
      "import numpy as np\n",
      "import scipy\n",
      "import matplotlib.pyplot as plt\n",
      "import ct_sm\n",
      "from cosmoTransitions import pathDeformation\n",
      "from cosmoTransitions import transitionFinder\n",
      "%matplotlib inline\n",
      "from collections import namedtuple\n",
      "from collections import OrderedDict\n",
      "import sys\n",
      "\n",
      "\n",
      "def findTn(model, critobj, low_id, high_id, nucleationCrit=140.,makeMinPlot=False):\n",
      "    \"\"\"\n",
      "    Now for a given parameter space point we can find the nucleation temperature by scanning around the relevant critical temperature\n",
      "    and finding T_n such that S_3/T_n =140 (for the 3D case).\n",
      "    \n",
      "    Inputs:\n",
      "        critobj: object containing the critical temperatures and vevs for a particular phase transition, \n",
      "        computed using model.calcTcTrans()\n",
      "        nucleationCrit: Nucleation temperature is defined by S/T = nucleationCrit. \n",
      "    Returns:\n",
      "        Tnuc: nucleation temperature\n",
      "        S/T: value of the action at T=Tnuc. If Tnuc is physical, then S/T = nucleationCrit\n",
      "    \"\"\"\n",
      "    # First, check that the transition is first order!\n",
      "    if critobj['trantype']!=1:\n",
      "        return -2,-2\n",
      "    # A large number used to denome some kinds of error\n",
      "    hugenum = 1e99\n",
      "    #The critical temperature you want to start at \n",
      "    Tcrit = critobj['Tcrit']\n",
      "\n",
      "    #The lowest temperature to consider; make sure it's higher than the temp where the high-T phase disappears\n",
      "    highphase_id = high_id #critobj['high_phase']\n",
      "    lowphase_id = low_id #critobj['low_phase']\n",
      "    Tmin = model.phases[highphase_id].T[0]\n",
      "    \n",
      "    #The largest temperature to consider:\n",
      "    Tmax = Tcrit-0.0001\n",
      "    print \"Tmin = \",Tmin, \" Tmax = \", Tmax\n",
      "    assert Tmin < Tmax\n",
      "    #Tmax = transitionFinder._maxTCritForPhase(model.phases, model.phases[highphase_id])\n",
      "    # Function that returns S/T for a given temperature T\n",
      "    def actionFunction(T):\n",
      "        V = lambda x: model.Vtot(x,T)\n",
      "        gradV = lambda x: model.gradV(x,T)\n",
      "        lowmin = scipy.optimize.fmin(V,model.phases[lowphase_id].valAt(T),disp=0,ftol=1e-8)\n",
      "        print model.phases[highphase_id].valAt(T)\n",
      "        highmin = scipy.optimize.fmin(V,[0.],disp=0,ftol=1e-8)\n",
      "        #highmin = scipy.optimize.fmin(V,model.phases[highphase_id].valAt(T),disp=0,ftol=1e-8)\n",
      "        # Make sure the minima are not the same\n",
      "        mineps = np.linalg.norm(lowmin-highmin)/np.linalg.norm(lowmin+highmin)\n",
      "        if mineps < 1e-2:\n",
      "            return hugenum\n",
      "        \n",
      "    \n",
      "        #assert V(lowmin) < V(highmin)\n",
      "        if V(lowmin) > V(highmin):\n",
      "            print \"Vlow > Vhigh!\"\n",
      "            print \"T = \", T\n",
      "            print \"dV = \" ,V(lowmin)-V(highmin)\n",
      "            print \"low: \",lowmin, V(lowmin)\n",
      "            print \"high: \", highmin, V(highmin)\n",
      "            return hugenum\n",
      "        \"\"\"\n",
      "        t = np.linspace(-0.2,0.2,100)\n",
      "        linphi = [highmin+ti*(lowmin-highmin) for ti in t]\n",
      "        Vlin = [V(phii) for phii in linphi]\n",
      "        plt.plot(t,Vlin)\n",
      "        plt.ylim([-1e4,0])\n",
      "        plt.show()\n",
      "        hess_low = model.d2V(lowmin,T)\n",
      "        hess_high = model.d2V(highmin,T)\n",
      "        print lowmin, highmin\n",
      "        print np.linalg.eigvals(hess_low), np.linalg.eigvals(hess_high)\n",
      "        \"\"\"\n",
      "        path = [lowmin,highmin]\n",
      "        tobj = pathDeformation.fullTunneling(path,V,gradV)\n",
      "        return tobj.action/max(T,1e-5)-nucleationCrit\n",
      "    \n",
      "    # If S(T_min)/Tmin-140 > 0. then try to find the minimum action instead\n",
      "    afMin = actionFunction(Tmin+1e-2)\n",
      "    if (afMin > 0. and afMin < hugenum):\n",
      "        TSmin =  scipy.optimize.fminbound(lambda T: np.fabs(actionFunction(T)),Tmin,Tmax,xtol=1e-3,maxfun=40)\n",
      "        actFuncMin = actionFunction(TSmin)\n",
      "        if (actFuncMin > 1.):\n",
      "            print \"Nucleation too slow! S/T > 140!\"\n",
      "            if makeMinPlot:\n",
      "                Ts = np.linspace(Tmin,Tmax,num=20)\n",
      "                SoT = [nucleationCrit+actionFunction(T) for T in Ts]\n",
      "                plt.figure()\n",
      "                plt.yscale('log')\n",
      "                plt.plot(Ts,SoT,'b--',linewidth=3.0)\n",
      "                plt.show()\n",
      "        \n",
      "            Tnuc = 1e99\n",
      "            return Tnuc, actFuncMin+nucleationCrit\n",
      "    # The pair of minima provided in critobj were not good\n",
      "    elif afMin == hugenum:\n",
      "        return -1, -1\n",
      "        \n",
      "    # Otherwise find the proper nucleation temperature\n",
      "    else:\n",
      "        # Make sure the root is bracketed\n",
      "        aTmax = actionFunction(Tmax-1e-2)\n",
      "        aTmin = actionFunction(Tmin+1e-2)\n",
      "        assert aTmax > 0. and aTmin < 0.\n",
      "        Tnuc = scipy.optimize.brentq(actionFunction,Tmin+1e-2,Tmax,xtol=1e-5)\n",
      "\n",
      "    \n",
      "    print \"Tnuc = \",Tnuc #, \" actionFunction = \", actionFunction(Tnuc)\n",
      "    return Tnuc, actionFunction(Tnuc)+nucleationCrit\n",
      "\n",
      "def calcStrength(critobj):\n",
      "    if critobj['trantype']==1:\n",
      "        return np.linalg.norm(critobj['low_vev'])/critobj['Tcrit']\n",
      "    else:\n",
      "        return 0\n",
      "\n",
      "\n"
     ],
     "language": "python",
     "metadata": {},
     "outputs": [],
     "prompt_number": 13
    },
    {
     "cell_type": "code",
     "collapsed": false,
     "input": [
      "model = ct_sm.sm_eft()"
     ],
     "language": "python",
     "metadata": {},
     "outputs": [
      {
       "output_type": "stream",
       "stream": "stdout",
       "text": [
        "Guesses for mu12 and l1 =  7849.96 0.11\n",
        "RG running with initial parameters at the input scale...\n",
        "Finding the correct parameters at the input scale...\n",
        "Deviations from desired values before optimization: [0.24845341991989725, 0.72556549999999997]\n",
        "Deviations from desired values after optimization:"
       ]
      },
      {
       "output_type": "stream",
       "stream": "stdout",
       "text": [
        " [1.0222334509781848e-12, -4.9999999999999998e-07]\n",
        "Final values of mu12, l1 =  -8619.443781 0.114382507683\n",
        "Scale set at mu =  246.22\n",
        "vev =  [ 246.22004511]\n",
        "mh =  125.000132812\n"
       ]
      }
     ],
     "prompt_number": 2
    },
    {
     "cell_type": "code",
     "collapsed": false,
     "input": [
      "print np.sqrt(model.renormScaleSq)"
     ],
     "language": "python",
     "metadata": {},
     "outputs": [
      {
       "output_type": "stream",
       "stream": "stdout",
       "text": [
        "246.22\n"
       ]
      }
     ],
     "prompt_number": 3
    },
    {
     "cell_type": "code",
     "collapsed": false,
     "input": [
      "print model.l1\n",
      "print model.mu12"
     ],
     "language": "python",
     "metadata": {},
     "outputs": [
      {
       "output_type": "stream",
       "stream": "stdout",
       "text": [
        "0.114382507683\n",
        "-8619.443781\n"
       ]
      }
     ],
     "prompt_number": 4
    },
    {
     "cell_type": "code",
     "collapsed": false,
     "input": [
      "model.plot1d(0,35,T=160)"
     ],
     "language": "python",
     "metadata": {},
     "outputs": [
      {
       "metadata": {},
       "output_type": "display_data",
       "png": "[encoded data removed]",
       "text": [
        "<matplotlib.figure.Figure at 0x3839b90>"
       ]
      }
     ],
     "prompt_number": 5
    },
    {
     "cell_type": "code",
     "collapsed": false,
     "input": [
      "model.plot1d(0,35,T=157.05)"
     ],
     "language": "python",
     "metadata": {},
     "outputs": [
      {
       "metadata": {},
       "output_type": "display_data",
       "png": "[encoded data removed]",
       "text": [
        "<matplotlib.figure.Figure at 0x4457dd0>"
       ]
      }
     ],
     "prompt_number": 6
    },
    {
     "cell_type": "code",
     "collapsed": false,
     "input": [
      "model.plot1d(0,35,T=157.00268228995054)"
     ],
     "language": "python",
     "metadata": {},
     "outputs": [
      {
       "metadata": {},
       "output_type": "display_data",
       "png": "[encoded data removed]",
       "text": [
        "<matplotlib.figure.Figure at 0x4f008d0>"
       ]
      }
     ],
     "prompt_number": 7
    },
    {
     "cell_type": "code",
     "collapsed": false,
     "input": [],
     "language": "python",
     "metadata": {},
     "outputs": [
      {
       "metadata": {},
       "output_type": "display_data",
       "png": "[encoded data removed]",
       "text": [
        "<matplotlib.figure.Figure at 0x45b7150>"
       ]
      }
     ],
     "prompt_number": 33
    },
    {
     "cell_type": "code",
     "collapsed": false,
     "input": [
      "model.plotPhasesPhi()"
     ],
     "language": "python",
     "metadata": {},
     "outputs": [
      {
       "output_type": "stream",
       "stream": "stdout",
       "text": [
        "Tracing phase starting at x = [ 246.22000125] ; t = 0.0\n",
        "Tracing minimum up\n",
        "traceMinimum t0 = 0\n",
        "."
       ]
      },
      {
       "output_type": "stream",
       "stream": "stdout",
       "text": [
        "."
       ]
      },
      {
       "output_type": "stream",
       "stream": "stdout",
       "text": [
        "."
       ]
      },
      {
       "output_type": "stream",
       "stream": "stdout",
       "text": [
        "."
       ]
      },
      {
       "output_type": "stream",
       "stream": "stdout",
       "text": [
        "."
       ]
      },
      {
       "output_type": "stream",
       "stream": "stdout",
       "text": [
        "."
       ]
      },
      {
       "output_type": "stream",
       "stream": "stdout",
       "text": [
        "."
       ]
      },
      {
       "output_type": "stream",
       "stream": "stdout",
       "text": [
        "."
       ]
      },
      {
       "output_type": "stream",
       "stream": "stdout",
       "text": [
        "."
       ]
      },
      {
       "output_type": "stream",
       "stream": "stdout",
       "text": [
        "."
       ]
      },
      {
       "output_type": "stream",
       "stream": "stdout",
       "text": [
        "."
       ]
      },
      {
       "output_type": "stream",
       "stream": "stdout",
       "text": [
        "."
       ]
      },
      {
       "output_type": "stream",
       "stream": "stdout",
       "text": [
        "."
       ]
      },
      {
       "output_type": "stream",
       "stream": "stdout",
       "text": [
        "."
       ]
      },
      {
       "output_type": "stream",
       "stream": "stdout",
       "text": [
        "."
       ]
      },
      {
       "output_type": "stream",
       "stream": "stdout",
       "text": [
        "."
       ]
      },
      {
       "output_type": "stream",
       "stream": "stdout",
       "text": [
        "."
       ]
      },
      {
       "output_type": "stream",
       "stream": "stdout",
       "text": [
        "."
       ]
      },
      {
       "output_type": "stream",
       "stream": "stdout",
       "text": [
        "."
       ]
      },
      {
       "output_type": "stream",
       "stream": "stdout",
       "text": [
        "."
       ]
      },
      {
       "output_type": "stream",
       "stream": "stdout",
       "text": [
        "."
       ]
      },
      {
       "output_type": "stream",
       "stream": "stdout",
       "text": [
        "."
       ]
      },
      {
       "output_type": "stream",
       "stream": "stdout",
       "text": [
        "."
       ]
      },
      {
       "output_type": "stream",
       "stream": "stdout",
       "text": [
        "."
       ]
      },
      {
       "output_type": "stream",
       "stream": "stdout",
       "text": [
        "."
       ]
      },
      {
       "output_type": "stream",
       "stream": "stdout",
       "text": [
        "."
       ]
      },
      {
       "output_type": "stream",
       "stream": "stdout",
       "text": [
        "."
       ]
      },
      {
       "output_type": "stream",
       "stream": "stdout",
       "text": [
        "."
       ]
      },
      {
       "output_type": "stream",
       "stream": "stdout",
       "text": [
        "."
       ]
      },
      {
       "output_type": "stream",
       "stream": "stdout",
       "text": [
        "."
       ]
      },
      {
       "output_type": "stream",
       "stream": "stdout",
       "text": [
        "."
       ]
      },
      {
       "output_type": "stream",
       "stream": "stdout",
       "text": [
        "."
       ]
      },
      {
       "output_type": "stream",
       "stream": "stdout",
       "text": [
        "."
       ]
      },
      {
       "output_type": "stream",
       "stream": "stdout",
       "text": [
        "."
       ]
      },
      {
       "output_type": "stream",
       "stream": "stdout",
       "text": [
        "."
       ]
      },
      {
       "output_type": "stream",
       "stream": "stdout",
       "text": [
        "."
       ]
      },
      {
       "output_type": "stream",
       "stream": "stdout",
       "text": [
        "."
       ]
      },
      {
       "output_type": "stream",
       "stream": "stdout",
       "text": [
        "."
       ]
      },
      {
       "output_type": "stream",
       "stream": "stdout",
       "text": [
        "."
       ]
      },
      {
       "output_type": "stream",
       "stream": "stdout",
       "text": [
        "."
       ]
      },
      {
       "output_type": "stream",
       "stream": "stdout",
       "text": [
        "."
       ]
      },
      {
       "output_type": "stream",
       "stream": "stdout",
       "text": [
        "."
       ]
      },
      {
       "output_type": "stream",
       "stream": "stdout",
       "text": [
        "."
       ]
      },
      {
       "output_type": "stream",
       "stream": "stdout",
       "text": [
        "."
       ]
      },
      {
       "output_type": "stream",
       "stream": "stdout",
       "text": [
        "."
       ]
      },
      {
       "output_type": "stream",
       "stream": "stdout",
       "text": [
        "."
       ]
      },
      {
       "output_type": "stream",
       "stream": "stdout",
       "text": [
        "."
       ]
      },
      {
       "output_type": "stream",
       "stream": "stdout",
       "text": [
        "."
       ]
      },
      {
       "output_type": "stream",
       "stream": "stdout",
       "text": [
        "."
       ]
      },
      {
       "output_type": "stream",
       "stream": "stdout",
       "text": [
        "."
       ]
      },
      {
       "output_type": "stream",
       "stream": "stdout",
       "text": [
        "."
       ]
      },
      {
       "output_type": "stream",
       "stream": "stdout",
       "text": [
        "."
       ]
      },
      {
       "output_type": "stream",
       "stream": "stdout",
       "text": [
        "."
       ]
      },
      {
       "output_type": "stream",
       "stream": "stdout",
       "text": [
        "."
       ]
      },
      {
       "output_type": "stream",
       "stream": "stdout",
       "text": [
        "."
       ]
      },
      {
       "output_type": "stream",
       "stream": "stdout",
       "text": [
        "."
       ]
      },
      {
       "output_type": "stream",
       "stream": "stdout",
       "text": [
        "."
       ]
      },
      {
       "output_type": "stream",
       "stream": "stdout",
       "text": [
        "."
       ]
      },
      {
       "output_type": "stream",
       "stream": "stdout",
       "text": [
        "."
       ]
      },
      {
       "output_type": "stream",
       "stream": "stdout",
       "text": [
        "."
       ]
      },
      {
       "output_type": "stream",
       "stream": "stdout",
       "text": [
        "."
       ]
      },
      {
       "output_type": "stream",
       "stream": "stdout",
       "text": [
        "."
       ]
      },
      {
       "output_type": "stream",
       "stream": "stdout",
       "text": [
        "."
       ]
      },
      {
       "output_type": "stream",
       "stream": "stdout",
       "text": [
        "."
       ]
      },
      {
       "output_type": "stream",
       "stream": "stdout",
       "text": [
        "."
       ]
      },
      {
       "output_type": "stream",
       "stream": "stdout",
       "text": [
        "."
       ]
      },
      {
       "output_type": "stream",
       "stream": "stdout",
       "text": [
        "."
       ]
      },
      {
       "output_type": "stream",
       "stream": "stdout",
       "text": [
        "."
       ]
      },
      {
       "output_type": "stream",
       "stream": "stdout",
       "text": [
        "."
       ]
      },
      {
       "output_type": "stream",
       "stream": "stdout",
       "text": [
        "."
       ]
      },
      {
       "output_type": "stream",
       "stream": "stdout",
       "text": [
        "."
       ]
      },
      {
       "output_type": "stream",
       "stream": "stdout",
       "text": [
        "."
       ]
      },
      {
       "output_type": "stream",
       "stream": "stdout",
       "text": [
        "."
       ]
      },
      {
       "output_type": "stream",
       "stream": "stdout",
       "text": [
        "."
       ]
      },
      {
       "output_type": "stream",
       "stream": "stdout",
       "text": [
        "."
       ]
      },
      {
       "output_type": "stream",
       "stream": "stdout",
       "text": [
        "."
       ]
      },
      {
       "output_type": "stream",
       "stream": "stdout",
       "text": [
        "."
       ]
      },
      {
       "output_type": "stream",
       "stream": "stdout",
       "text": [
        "."
       ]
      },
      {
       "output_type": "stream",
       "stream": "stdout",
       "text": [
        "."
       ]
      },
      {
       "output_type": "stream",
       "stream": "stdout",
       "text": [
        "."
       ]
      },
      {
       "output_type": "stream",
       "stream": "stdout",
       "text": [
        "."
       ]
      },
      {
       "output_type": "stream",
       "stream": "stdout",
       "text": [
        "."
       ]
      },
      {
       "output_type": "stream",
       "stream": "stdout",
       "text": [
        "."
       ]
      },
      {
       "output_type": "stream",
       "stream": "stdout",
       "text": [
        "."
       ]
      },
      {
       "output_type": "stream",
       "stream": "stdout",
       "text": [
        "."
       ]
      },
      {
       "output_type": "stream",
       "stream": "stdout",
       "text": [
        "."
       ]
      },
      {
       "output_type": "stream",
       "stream": "stdout",
       "text": [
        "."
       ]
      },
      {
       "output_type": "stream",
       "stream": "stdout",
       "text": [
        "."
       ]
      },
      {
       "output_type": "stream",
       "stream": "stdout",
       "text": [
        "."
       ]
      },
      {
       "output_type": "stream",
       "stream": "stdout",
       "text": [
        "."
       ]
      },
      {
       "output_type": "stream",
       "stream": "stdout",
       "text": [
        "."
       ]
      },
      {
       "output_type": "stream",
       "stream": "stdout",
       "text": [
        "."
       ]
      },
      {
       "output_type": "stream",
       "stream": "stdout",
       "text": [
        "."
       ]
      },
      {
       "output_type": "stream",
       "stream": "stdout",
       "text": [
        "."
       ]
      },
      {
       "output_type": "stream",
       "stream": "stdout",
       "text": [
        "."
       ]
      },
      {
       "output_type": "stream",
       "stream": "stdout",
       "text": [
        "."
       ]
      },
      {
       "output_type": "stream",
       "stream": "stdout",
       "text": [
        "."
       ]
      },
      {
       "output_type": "stream",
       "stream": "stdout",
       "text": [
        "."
       ]
      },
      {
       "output_type": "stream",
       "stream": "stdout",
       "text": [
        "."
       ]
      },
      {
       "output_type": "stream",
       "stream": "stdout",
       "text": [
        "."
       ]
      },
      {
       "output_type": "stream",
       "stream": "stdout",
       "text": [
        "."
       ]
      },
      {
       "output_type": "stream",
       "stream": "stdout",
       "text": [
        "."
       ]
      },
      {
       "output_type": "stream",
       "stream": "stdout",
       "text": [
        "."
       ]
      },
      {
       "output_type": "stream",
       "stream": "stdout",
       "text": [
        "."
       ]
      },
      {
       "output_type": "stream",
       "stream": "stdout",
       "text": [
        "."
       ]
      },
      {
       "output_type": "stream",
       "stream": "stdout",
       "text": [
        "."
       ]
      },
      {
       "output_type": "stream",
       "stream": "stdout",
       "text": [
        "."
       ]
      },
      {
       "output_type": "stream",
       "stream": "stdout",
       "text": [
        "."
       ]
      },
      {
       "output_type": "stream",
       "stream": "stdout",
       "text": [
        "."
       ]
      },
      {
       "output_type": "stream",
       "stream": "stdout",
       "text": [
        "."
       ]
      },
      {
       "output_type": "stream",
       "stream": "stdout",
       "text": [
        "."
       ]
      },
      {
       "output_type": "stream",
       "stream": "stdout",
       "text": [
        "."
       ]
      },
      {
       "output_type": "stream",
       "stream": "stdout",
       "text": [
        "."
       ]
      },
      {
       "output_type": "stream",
       "stream": "stdout",
       "text": [
        "."
       ]
      },
      {
       "output_type": "stream",
       "stream": "stdout",
       "text": [
        "."
       ]
      },
      {
       "output_type": "stream",
       "stream": "stdout",
       "text": [
        "."
       ]
      },
      {
       "output_type": "stream",
       "stream": "stdout",
       "text": [
        "."
       ]
      },
      {
       "output_type": "stream",
       "stream": "stdout",
       "text": [
        "."
       ]
      },
      {
       "output_type": "stream",
       "stream": "stdout",
       "text": [
        "."
       ]
      },
      {
       "output_type": "stream",
       "stream": "stdout",
       "text": [
        "."
       ]
      },
      {
       "output_type": "stream",
       "stream": "stdout",
       "text": [
        "."
       ]
      },
      {
       "output_type": "stream",
       "stream": "stdout",
       "text": [
        "."
       ]
      },
      {
       "output_type": "stream",
       "stream": "stdout",
       "text": [
        "."
       ]
      },
      {
       "output_type": "stream",
       "stream": "stdout",
       "text": [
        "."
       ]
      },
      {
       "output_type": "stream",
       "stream": "stdout",
       "text": [
        "."
       ]
      },
      {
       "output_type": "stream",
       "stream": "stdout",
       "text": [
        "."
       ]
      },
      {
       "output_type": "stream",
       "stream": "stdout",
       "text": [
        "."
       ]
      },
      {
       "output_type": "stream",
       "stream": "stdout",
       "text": [
        "."
       ]
      },
      {
       "output_type": "stream",
       "stream": "stdout",
       "text": [
        "."
       ]
      },
      {
       "output_type": "stream",
       "stream": "stdout",
       "text": [
        "."
       ]
      },
      {
       "output_type": "stream",
       "stream": "stdout",
       "text": [
        "."
       ]
      },
      {
       "output_type": "stream",
       "stream": "stdout",
       "text": [
        "."
       ]
      },
      {
       "output_type": "stream",
       "stream": "stdout",
       "text": [
        "."
       ]
      },
      {
       "output_type": "stream",
       "stream": "stdout",
       "text": [
        "."
       ]
      },
      {
       "output_type": "stream",
       "stream": "stdout",
       "text": [
        "."
       ]
      },
      {
       "output_type": "stream",
       "stream": "stdout",
       "text": [
        "."
       ]
      },
      {
       "output_type": "stream",
       "stream": "stdout",
       "text": [
        "."
       ]
      },
      {
       "output_type": "stream",
       "stream": "stdout",
       "text": [
        "."
       ]
      },
      {
       "output_type": "stream",
       "stream": "stdout",
       "text": [
        "."
       ]
      },
      {
       "output_type": "stream",
       "stream": "stdout",
       "text": [
        "."
       ]
      },
      {
       "output_type": "stream",
       "stream": "stdout",
       "text": [
        "."
       ]
      },
      {
       "output_type": "stream",
       "stream": "stdout",
       "text": [
        "."
       ]
      },
      {
       "output_type": "stream",
       "stream": "stdout",
       "text": [
        "."
       ]
      },
      {
       "output_type": "stream",
       "stream": "stdout",
       "text": [
        "."
       ]
      },
      {
       "output_type": "stream",
       "stream": "stdout",
       "text": [
        "."
       ]
      },
      {
       "output_type": "stream",
       "stream": "stdout",
       "text": [
        "."
       ]
      },
      {
       "output_type": "stream",
       "stream": "stdout",
       "text": [
        "."
       ]
      },
      {
       "output_type": "stream",
       "stream": "stdout",
       "text": [
        "."
       ]
      },
      {
       "output_type": "stream",
       "stream": "stdout",
       "text": [
        "."
       ]
      },
      {
       "output_type": "stream",
       "stream": "stdout",
       "text": [
        "."
       ]
      },
      {
       "output_type": "stream",
       "stream": "stdout",
       "text": [
        "."
       ]
      },
      {
       "output_type": "stream",
       "stream": "stdout",
       "text": [
        "."
       ]
      },
      {
       "output_type": "stream",
       "stream": "stdout",
       "text": [
        "."
       ]
      },
      {
       "output_type": "stream",
       "stream": "stdout",
       "text": [
        "."
       ]
      },
      {
       "output_type": "stream",
       "stream": "stdout",
       "text": [
        "."
       ]
      },
      {
       "output_type": "stream",
       "stream": "stdout",
       "text": [
        "."
       ]
      },
      {
       "output_type": "stream",
       "stream": "stdout",
       "text": [
        "."
       ]
      },
      {
       "output_type": "stream",
       "stream": "stdout",
       "text": [
        "."
       ]
      },
      {
       "output_type": "stream",
       "stream": "stdout",
       "text": [
        "."
       ]
      },
      {
       "output_type": "stream",
       "stream": "stdout",
       "text": [
        "\n"
       ]
      },
      {
       "output_type": "stream",
       "stream": "stdout",
       "text": [
        "Tracing phase starting at x = [ -2.43750000e-05] ; t = 158.075268216\n",
        "Tracing minimum down\n",
        "traceMinimum t0 = 158.075\n",
        "."
       ]
      },
      {
       "output_type": "stream",
       "stream": "stdout",
       "text": [
        "."
       ]
      },
      {
       "output_type": "stream",
       "stream": "stdout",
       "text": [
        "."
       ]
      },
      {
       "output_type": "stream",
       "stream": "stdout",
       "text": [
        "."
       ]
      },
      {
       "output_type": "stream",
       "stream": "stdout",
       "text": [
        "."
       ]
      },
      {
       "output_type": "stream",
       "stream": "stdout",
       "text": [
        "."
       ]
      },
      {
       "output_type": "stream",
       "stream": "stdout",
       "text": [
        "."
       ]
      },
      {
       "output_type": "stream",
       "stream": "stdout",
       "text": [
        "."
       ]
      },
      {
       "output_type": "stream",
       "stream": "stdout",
       "text": [
        "."
       ]
      },
      {
       "output_type": "stream",
       "stream": "stdout",
       "text": [
        "."
       ]
      },
      {
       "output_type": "stream",
       "stream": "stdout",
       "text": [
        "."
       ]
      },
      {
       "output_type": "stream",
       "stream": "stdout",
       "text": [
        "."
       ]
      },
      {
       "output_type": "stream",
       "stream": "stdout",
       "text": [
        "."
       ]
      },
      {
       "output_type": "stream",
       "stream": "stdout",
       "text": [
        "."
       ]
      },
      {
       "output_type": "stream",
       "stream": "stdout",
       "text": [
        "."
       ]
      },
      {
       "output_type": "stream",
       "stream": "stdout",
       "text": [
        "."
       ]
      },
      {
       "output_type": "stream",
       "stream": "stdout",
       "text": [
        "."
       ]
      },
      {
       "output_type": "stream",
       "stream": "stdout",
       "text": [
        "."
       ]
      },
      {
       "output_type": "stream",
       "stream": "stdout",
       "text": [
        "."
       ]
      },
      {
       "output_type": "stream",
       "stream": "stdout",
       "text": [
        "."
       ]
      },
      {
       "output_type": "stream",
       "stream": "stdout",
       "text": [
        "."
       ]
      },
      {
       "output_type": "stream",
       "stream": "stdout",
       "text": [
        "."
       ]
      },
      {
       "output_type": "stream",
       "stream": "stdout",
       "text": [
        "."
       ]
      },
      {
       "output_type": "stream",
       "stream": "stdout",
       "text": [
        "."
       ]
      },
      {
       "output_type": "stream",
       "stream": "stdout",
       "text": [
        "\n"
       ]
      },
      {
       "output_type": "stream",
       "stream": "stdout",
       "text": [
        "Tracing minimum up\n",
        "traceMinimum t0 = 158.075\n",
        "."
       ]
      },
      {
       "output_type": "stream",
       "stream": "stdout",
       "text": [
        "."
       ]
      },
      {
       "output_type": "stream",
       "stream": "stdout",
       "text": [
        "."
       ]
      },
      {
       "output_type": "stream",
       "stream": "stdout",
       "text": [
        "."
       ]
      },
      {
       "output_type": "stream",
       "stream": "stdout",
       "text": [
        "."
       ]
      },
      {
       "output_type": "stream",
       "stream": "stdout",
       "text": [
        "."
       ]
      },
      {
       "output_type": "stream",
       "stream": "stdout",
       "text": [
        "."
       ]
      },
      {
       "output_type": "stream",
       "stream": "stdout",
       "text": [
        "."
       ]
      },
      {
       "output_type": "stream",
       "stream": "stdout",
       "text": [
        "."
       ]
      },
      {
       "output_type": "stream",
       "stream": "stdout",
       "text": [
        "."
       ]
      },
      {
       "output_type": "stream",
       "stream": "stdout",
       "text": [
        "."
       ]
      },
      {
       "output_type": "stream",
       "stream": "stdout",
       "text": [
        "."
       ]
      },
      {
       "output_type": "stream",
       "stream": "stdout",
       "text": [
        "."
       ]
      },
      {
       "output_type": "stream",
       "stream": "stdout",
       "text": [
        "."
       ]
      },
      {
       "output_type": "stream",
       "stream": "stdout",
       "text": [
        "\n"
       ]
      },
      {
       "metadata": {},
       "output_type": "display_data",
       "png": "[encoded data removed]",
       "text": [
        "<matplotlib.figure.Figure at 0x4974d90>"
       ]
      }
     ],
     "prompt_number": 9
    },
    {
     "cell_type": "code",
     "collapsed": false,
     "input": [
      "model.phases"
     ],
     "language": "python",
     "metadata": {},
     "outputs": [
      {
       "metadata": {},
       "output_type": "pyout",
       "prompt_number": 10,
       "text": [
        "{0: Phase(key=0, X=[[246.2], ..., [22.35]], T=[0, ..., 157.1], dXdT=[[3.891e-20], ..., [-267.1]],\n",
        " 1: Phase(key=1, X=[[-0.005373], ..., [-9.714e-17]], T=[156.9, ..., 1000], dXdT=[[0.5348], ..., [0.000432]]}"
       ]
      }
     ],
     "prompt_number": 10
    },
    {
     "cell_type": "code",
     "collapsed": false,
     "input": [
      "model.calcTcTrans()"
     ],
     "language": "python",
     "metadata": {},
     "outputs": [
      {
       "metadata": {},
       "output_type": "pyout",
       "prompt_number": 11,
       "text": [
        "[{'Delta_rho': 5296734.1324691772,\n",
        "  'Tcrit': 157.0193375940774,\n",
        "  'high_phase': 1,\n",
        "  'high_vev': array([ 0.00119536]),\n",
        "  'low_phase': 0,\n",
        "  'low_vev': array([ 26.86800988]),\n",
        "  'trantype': 1}]"
       ]
      }
     ],
     "prompt_number": 11
    },
    {
     "cell_type": "code",
     "collapsed": false,
     "input": [
      "calcStrength(model.TcTrans[0])"
     ],
     "language": "python",
     "metadata": {},
     "outputs": [
      {
       "metadata": {},
       "output_type": "pyout",
       "prompt_number": 14,
       "text": [
        "0.17111274506894197"
       ]
      }
     ],
     "prompt_number": 14
    },
    {
     "cell_type": "code",
     "collapsed": false,
     "input": [
      "# This fails for some reason!\n",
      "model.findAllTransitions()"
     ],
     "language": "python",
     "metadata": {},
     "outputs": [
      {
       "metadata": {},
       "output_type": "pyout",
       "prompt_number": 15,
       "text": [
        "[]"
       ]
      }
     ],
     "prompt_number": 15
    },
    {
     "cell_type": "code",
     "collapsed": false,
     "input": [
      "model.plot1d(0,35,T=model.TcTrans[0]['Tcrit'])"
     ],
     "language": "python",
     "metadata": {},
     "outputs": [
      {
       "metadata": {},
       "output_type": "display_data",
       "png": "[encoded data removed]",
       "text": [
        "<matplotlib.figure.Figure at 0x4d66190>"
       ]
      }
     ],
     "prompt_number": 16
    },
    {
     "cell_type": "code",
     "collapsed": false,
     "input": [
      "# Dumb function works!\n",
      "findTn(model,model.TcTrans[0],0,1)"
     ],
     "language": "python",
     "metadata": {},
     "outputs": [
      {
       "output_type": "stream",
       "stream": "stdout",
       "text": [
        "Tmin =  156.876075066  Tmax =  157.019237594\n",
        "[-0.00415109]\n",
        "Path deformation converged. 1 steps. fRatio = 7.63650e-14"
       ]
      },
      {
       "output_type": "stream",
       "stream": "stdout",
       "text": [
        "\n",
        "[ 0.00123834]\n",
        "Path deformation converged. 1 steps. fRatio = 1.94721e-13"
       ]
      },
      {
       "output_type": "stream",
       "stream": "stdout",
       "text": [
        "\n",
        "[-0.00415109]\n",
        "Path deformation converged. 1 steps. fRatio = 7.63650e-14"
       ]
      },
      {
       "output_type": "stream",
       "stream": "stdout",
       "text": [
        "\n",
        "[-0.00415109]\n",
        "Path deformation converged. 1 steps. fRatio = 7.63650e-14"
       ]
      },
      {
       "output_type": "stream",
       "stream": "stdout",
       "text": [
        "\n",
        "[ 0.00119593]\n",
        "Path deformation converged. 1 steps. fRatio = 9.91441e-14"
       ]
      },
      {
       "output_type": "stream",
       "stream": "stdout",
       "text": [
        "\n",
        "[-0.00414369]"
       ]
      },
      {
       "output_type": "stream",
       "stream": "stdout",
       "text": [
        "\n",
        "Path deformation converged. 1 steps. fRatio = 7.59535e-14"
       ]
      },
      {
       "output_type": "stream",
       "stream": "stdout",
       "text": [
        "\n",
        "[ 0.00052119]\n",
        "Path deformation converged. 1 steps. fRatio = 9.19854e-14"
       ]
      },
      {
       "output_type": "stream",
       "stream": "stdout",
       "text": [
        "\n",
        "[ 0.00118118]\n",
        "Path deformation converged. 1 steps. fRatio = 1.24878e-13"
       ]
      },
      {
       "output_type": "stream",
       "stream": "stdout",
       "text": [
        "\n",
        "[ 0.00124719]\n",
        "Path deformation converged. 1 steps. fRatio = 1.28319e-13"
       ]
      },
      {
       "output_type": "stream",
       "stream": "stdout",
       "text": [
        "\n",
        "[ 0.00124719]\n",
        "Path deformation converged. 1 steps. fRatio = 1.60456e-13"
       ]
      },
      {
       "output_type": "stream",
       "stream": "stdout",
       "text": [
        "\n",
        "[ 0.00124719]"
       ]
      },
      {
       "output_type": "stream",
       "stream": "stdout",
       "text": [
        "\n",
        "Path deformation converged. 1 steps. fRatio = 1.60422e-13"
       ]
      },
      {
       "output_type": "stream",
       "stream": "stdout",
       "text": [
        "\n",
        "[ 0.00124719]"
       ]
      },
      {
       "output_type": "stream",
       "stream": "stdout",
       "text": [
        "\n",
        "Path deformation converged. 1 steps. fRatio = 6.41675e-14"
       ]
      },
      {
       "output_type": "stream",
       "stream": "stdout",
       "text": [
        "\n",
        "Tnuc =  157.00268229\n",
        "[ 0.00124719]"
       ]
      },
      {
       "output_type": "stream",
       "stream": "stdout",
       "text": [
        "\n",
        "Path deformation converged. 1 steps. fRatio = 1.60422e-13"
       ]
      },
      {
       "output_type": "stream",
       "stream": "stdout",
       "text": [
        "\n"
       ]
      },
      {
       "output_type": "stream",
       "stream": "stderr",
       "text": [
        "cosmoTransitions/tunneling1D.py:407: RuntimeWarning: overflow encountered in double_scalars\n",
        "  r *= 10\n"
       ]
      },
      {
       "metadata": {},
       "output_type": "pyout",
       "prompt_number": 17,
       "text": [
        "(157.00268228995054, 140.01828264765663)"
       ]
      }
     ],
     "prompt_number": 17
    },
    {
     "cell_type": "code",
     "collapsed": false,
     "input": [
      "x=transitionFinder.tunnelFromPhase(model.phases,model.phases[1],model.Vtot,model.gradV,157.00268)"
     ],
     "language": "python",
     "metadata": {},
     "outputs": [
      {
       "output_type": "stream",
       "stream": "stdout",
       "text": [
        "Tunneling from phase 1 to phase 0 at T=157\n",
        "high_vev = [ -4.98732999e-18]\n",
        "low_vev = [ 27.68275846]\n",
        "Path deformation converged. 1 steps. fRatio = 1.92505e-13"
       ]
      },
      {
       "output_type": "stream",
       "stream": "stdout",
       "text": [
        "\n",
        "Tunneling from phase 1 to phase 0 at T=157"
       ]
      },
      {
       "output_type": "stream",
       "stream": "stdout",
       "text": [
        "\n",
        "high_vev = [-0.0001247]\n",
        "low_vev = [ 27.73044547]\n",
        "Path deformation converged. 1 steps. fRatio = 2.24202e-13"
       ]
      },
      {
       "output_type": "stream",
       "stream": "stdout",
       "text": [
        "\n",
        "Tunneling from phase 1 to phase 0 at T=156.9"
       ]
      },
      {
       "output_type": "stream",
       "stream": "stdout",
       "text": [
        "\n",
        "high_vev = [ -2.55279777e-05]\n",
        "low_vev = [ 30.52884345]\n",
        "Path deformation converged. 1 steps. fRatio = 6.23985e-14"
       ]
      },
      {
       "output_type": "stream",
       "stream": "stdout",
       "text": [
        "\n",
        "Tunneling from phase 1 to phase 0 at T=156.9"
       ]
      },
      {
       "output_type": "stream",
       "stream": "stdout",
       "text": [
        "\n",
        "high_vev = [-0.0018375]\n",
        "low_vev = [ 31.82177776]\n",
        "Path deformation converged. 1 steps. fRatio = 1.40360e-13"
       ]
      },
      {
       "output_type": "stream",
       "stream": "stdout",
       "text": [
        "\n",
        "Tunneling from phase 1 to phase 0 at T=156.9"
       ]
      },
      {
       "output_type": "stream",
       "stream": "stdout",
       "text": [
        "\n",
        "high_vev = [-0.00350291]\n",
        "low_vev = [ 32.44361934]\n",
        "Path deformation converged. 1 steps. fRatio = 6.22862e-14"
       ]
      },
      {
       "output_type": "stream",
       "stream": "stdout",
       "text": [
        "\n",
        "Tunneling from phase 1 to phase 0 at T=156.9"
       ]
      },
      {
       "output_type": "stream",
       "stream": "stdout",
       "text": [
        "\n",
        "high_vev = [-0.00462037]\n",
        "low_vev = [ 32.74646498]\n",
        "Path deformation converged. 1 steps. fRatio = 1.62737e-13"
       ]
      },
      {
       "output_type": "stream",
       "stream": "stdout",
       "text": [
        "\n",
        "Tunneling from phase 1 to phase 0 at T=156.9"
       ]
      },
      {
       "output_type": "stream",
       "stream": "stdout",
       "text": [
        "\n",
        "high_vev = [-0.00363032]\n",
        "low_vev = [ 32.48255971]\n",
        "Path deformation converged. 1 steps. fRatio = 6.35651e-14"
       ]
      },
      {
       "output_type": "stream",
       "stream": "stdout",
       "text": [
        "\n",
        "Tunneling from phase 1 to phase 0 at T=156.9"
       ]
      },
      {
       "output_type": "stream",
       "stream": "stdout",
       "text": [
        "\n",
        "high_vev = [-0.00400656]\n",
        "low_vev = [ 32.61496411]\n",
        "Path deformation converged. 1 steps. fRatio = 4.70664e-14"
       ]
      },
      {
       "output_type": "stream",
       "stream": "stdout",
       "text": [
        "\n",
        "Tunneling from phase 1 to phase 0 at T=156.9"
       ]
      },
      {
       "output_type": "stream",
       "stream": "stdout",
       "text": [
        "\n",
        "high_vev = [-0.00417494]\n",
        "low_vev = [ 32.68082143]\n",
        "Path deformation converged. 1 steps. fRatio = 5.34265e-14"
       ]
      },
      {
       "output_type": "stream",
       "stream": "stdout",
       "text": [
        "\n"
       ]
      },
      {
       "output_type": "stream",
       "stream": "stderr",
       "text": [
        "cosmoTransitions/tunneling1D.py:324: RuntimeWarning: overflow encountered in double_scalars\n",
        "  beta_r = beta*r\n"
       ]
      }
     ],
     "prompt_number": 25
    },
    {
     "cell_type": "code",
     "collapsed": false,
     "input": [
      "x"
     ],
     "language": "python",
     "metadata": {},
     "outputs": [
      {
       "metadata": {},
       "output_type": "pyout",
       "prompt_number": 26,
       "text": [
        "{'Tnuc': 156.88563795101493,\n",
        " 'action': 277.51479314892282,\n",
        " 'high_phase': 1,\n",
        " 'high_vev': array([-0.00417494]),\n",
        " 'instanton': fullTunneling_rval(profile1D=Profile1D(R=array([  0.00000000e+00,   1.89027225e-04,   4.92571028e-02,\n",
        "         9.83251784e-02,   1.47393254e-01,   1.96461330e-01,\n",
        "         2.45529405e-01,   2.94597481e-01,   3.43665556e-01,\n",
        "         3.92733632e-01,   4.41801708e-01,   4.90869783e-01,\n",
        "         5.39937859e-01,   5.89005934e-01,   6.38074010e-01,\n",
        "         6.87142086e-01,   7.36210161e-01,   7.85278237e-01,\n",
        "         8.34346312e-01,   8.83414388e-01,   9.32482464e-01,\n",
        "         9.81550539e-01,   1.03061861e+00,   1.07968669e+00,\n",
        "         1.12875477e+00,   1.17782284e+00,   1.22689092e+00,\n",
        "         1.27595899e+00,   1.32502707e+00,   1.37409514e+00,\n",
        "         1.42316322e+00,   1.47223130e+00,   1.52129937e+00,\n",
        "         1.57036745e+00,   1.61943552e+00,   1.66850360e+00,\n",
        "         1.71757167e+00,   1.76663975e+00,   1.81570782e+00,\n",
        "         1.86477590e+00,   1.91384398e+00,   1.96291205e+00,\n",
        "         2.01198013e+00,   2.06104820e+00,   2.11011628e+00,\n",
        "         2.15918435e+00,   2.20825243e+00,   2.25732050e+00,\n",
        "         2.30638858e+00,   2.35545666e+00,   2.40452473e+00,\n",
        "         2.45359281e+00,   2.50266088e+00,   2.55172896e+00,\n",
        "         2.60079703e+00,   2.64986511e+00,   2.69893319e+00,\n",
        "         2.74800126e+00,   2.79706934e+00,   2.84613741e+00,\n",
        "         2.89520549e+00,   2.94427356e+00,   2.99334164e+00,\n",
        "         3.04240971e+00,   3.09147779e+00,   3.14054587e+00,\n",
        "         3.18961394e+00,   3.23868202e+00,   3.28775009e+00,\n",
        "         3.33681817e+00,   3.38588624e+00,   3.43495432e+00,\n",
        "         3.48402240e+00,   3.53309047e+00,   3.58215855e+00,\n",
        "         3.63122662e+00,   3.68029470e+00,   3.72936277e+00,\n",
        "         3.77843085e+00,   3.82749892e+00,   3.87656700e+00,\n",
        "         3.92563508e+00,   3.97470315e+00,   4.02377123e+00,\n",
        "         4.07283930e+00,   4.12190738e+00,   4.17097545e+00,\n",
        "         4.22004353e+00,   4.26911160e+00,   4.31817968e+00,\n",
        "         4.36724776e+00,   4.41631583e+00,   4.46538391e+00,\n",
        "         4.51445198e+00,   4.56352006e+00,   4.61258813e+00,\n",
        "         4.66165621e+00,   4.71072429e+00,   4.75979236e+00,\n",
        "         4.80886044e+00,   4.85792851e+00,   4.90699659e+00,\n",
        "         4.95606466e+00,   5.00513274e+00,   5.05420081e+00,\n",
        "         5.10326889e+00,   5.15233697e+00,   5.20140504e+00,\n",
        "         5.25047312e+00,   5.29954119e+00,   5.34860927e+00,\n",
        "         5.39767734e+00,   5.44674542e+00,   5.49581349e+00,\n",
        "         5.54488157e+00,   5.59394965e+00,   5.64301772e+00,\n",
        "         5.69208580e+00,   5.74115387e+00,   5.79022195e+00,\n",
        "         5.83929002e+00,   5.88835810e+00,   5.93742618e+00,\n",
        "         5.98649425e+00,   6.03556233e+00,   6.08463040e+00,\n",
        "         6.13369848e+00,   6.18276655e+00,   6.23183463e+00,\n",
        "         6.28090270e+00,   6.32997078e+00,   6.37903886e+00,\n",
        "         6.42810693e+00,   6.47717501e+00,   6.52624308e+00,\n",
        "         6.57531116e+00,   6.62437923e+00,   6.67344731e+00,\n",
        "         6.72251538e+00,   6.77158346e+00,   6.82065154e+00,\n",
        "         6.86971961e+00,   6.91878769e+00,   6.96785576e+00,\n",
        "         7.01692384e+00,   7.06599191e+00,   7.11505999e+00,\n",
        "         7.16412807e+00,   7.21319614e+00,   7.26226422e+00,\n",
        "         7.31133229e+00,   7.36040037e+00,   7.40946844e+00,\n",
        "         7.45853652e+00,   7.50760459e+00,   7.55667267e+00,\n",
        "         7.60574075e+00,   7.65480882e+00,   7.70387690e+00,\n",
        "         7.75294497e+00,   7.80201305e+00,   7.85108112e+00,\n",
        "         7.90014920e+00,   7.94921727e+00,   7.99828535e+00,\n",
        "         8.04735343e+00,   8.09642150e+00,   8.14548958e+00,\n",
        "         8.19455765e+00,   8.24362573e+00,   8.29269380e+00,\n",
        "         8.34176188e+00,   8.39082996e+00,   8.43989803e+00,\n",
        "         8.48896611e+00,   8.53803418e+00,   8.58710226e+00,\n",
        "         8.63617033e+00,   8.68523841e+00,   8.73430648e+00,\n",
        "         8.78337456e+00,   8.83244264e+00,   8.88151071e+00,\n",
        "         8.93057879e+00,   8.97964686e+00,   9.02871494e+00,\n",
        "         9.07778301e+00,   9.12685109e+00,   9.17591916e+00,\n",
        "         9.22498724e+00,   9.27405532e+00,   9.32312339e+00,\n",
        "         9.37219147e+00,   9.42125954e+00,   9.47032762e+00,\n",
        "         9.51939569e+00,   9.56846377e+00,   9.61753185e+00,\n",
        "         9.66659992e+00,   9.71566800e+00,   9.76473607e+00,\n",
        "         9.81380415e+00,   9.86287222e+00,   9.91194030e+00,\n",
        "         9.96100837e+00,   1.00100765e+01,   1.00591445e+01,\n",
        "         1.01082126e+01,   1.01572807e+01,   1.02063488e+01,\n",
        "         1.02554168e+01,   1.03044849e+01,   1.03535530e+01,\n",
        "         1.04026211e+01,   1.04516891e+01,   1.05007572e+01,\n",
        "         1.05498253e+01,   1.05988934e+01,   1.06479614e+01,\n",
        "         1.06970295e+01,   1.07460976e+01,   1.07951657e+01,\n",
        "         1.08442337e+01,   1.08933018e+01,   1.09423699e+01,\n",
        "         1.09914380e+01,   1.10405060e+01,   1.10895741e+01,\n",
        "         1.11386422e+01,   1.11877103e+01,   1.12367783e+01,\n",
        "         1.12858464e+01,   1.13349145e+01,   1.13839826e+01,\n",
        "         1.14330506e+01,   1.14821187e+01,   1.15311868e+01,\n",
        "         1.15802549e+01,   1.16293229e+01,   1.16783910e+01,\n",
        "         1.17274591e+01,   1.17765272e+01,   1.18255952e+01,\n",
        "         1.18746633e+01,   1.19237314e+01,   1.19727995e+01,\n",
        "         1.20218675e+01,   1.20709356e+01,   1.21200037e+01,\n",
        "         1.21690718e+01,   1.22181399e+01,   1.22672079e+01,\n",
        "         1.23162760e+01,   1.23653441e+01,   1.24144122e+01,\n",
        "         1.24634802e+01,   1.25125483e+01,   1.25616164e+01,\n",
        "         1.26106845e+01,   1.26597525e+01,   1.27088206e+01,\n",
        "         1.27578887e+01,   1.28069568e+01,   1.28560248e+01,\n",
        "         1.29050929e+01,   1.29541610e+01,   1.30032291e+01,\n",
        "         1.30522971e+01,   1.31013652e+01,   1.31504333e+01,\n",
        "         1.31995014e+01,   1.32485694e+01,   1.32976375e+01,\n",
        "         1.33467056e+01,   1.33957737e+01,   1.34448417e+01,\n",
        "         1.34939098e+01,   1.35429779e+01,   1.35920460e+01,\n",
        "         1.36411140e+01,   1.36901821e+01,   1.37392502e+01,\n",
        "         1.37883183e+01,   1.38373863e+01,   1.38864544e+01,\n",
        "         1.39355225e+01,   1.39845906e+01,   1.40336586e+01,\n",
        "         1.40827267e+01,   1.41317948e+01,   1.41808629e+01,\n",
        "         1.42299310e+01,   1.42789990e+01,   1.43280671e+01,\n",
        "         1.43771352e+01,   1.44262033e+01,   1.44752713e+01,\n",
        "         1.45243394e+01,   1.45734075e+01,   1.46224756e+01,\n",
        "         1.46715436e+01,   1.47206117e+01,   1.47696798e+01,\n",
        "         1.48187479e+01,   1.48678159e+01,   1.49168840e+01,\n",
        "         1.49659521e+01,   1.50150202e+01,   1.50640882e+01,\n",
        "         1.51131563e+01,   1.51622244e+01,   1.52112925e+01,\n",
        "         1.52603605e+01,   1.53094286e+01,   1.53584967e+01,\n",
        "         1.54075648e+01,   1.54566328e+01,   1.55057009e+01,\n",
        "         1.55547690e+01,   1.56038371e+01,   1.56529051e+01,\n",
        "         1.57019732e+01,   1.57510413e+01,   1.58001094e+01,\n",
        "         1.58491774e+01,   1.58982455e+01,   1.59473136e+01,\n",
        "         1.59963817e+01,   1.60454497e+01,   1.60945178e+01,\n",
        "         1.61435859e+01,   1.61926540e+01,   1.62417221e+01,\n",
        "         1.62907901e+01,   1.63398582e+01,   1.63889263e+01,\n",
        "         1.64379944e+01,   1.64870624e+01,   1.65361305e+01,\n",
        "         1.65851986e+01,   1.66342667e+01,   1.66833347e+01,\n",
        "         1.67324028e+01,   1.67814709e+01,   1.68305390e+01,\n",
        "         1.68796070e+01,   1.69286751e+01,   1.69777432e+01,\n",
        "         1.70268113e+01,   1.70758793e+01,   1.71249474e+01,\n",
        "         1.71740155e+01,   1.72230836e+01,   1.72721516e+01,\n",
        "         1.73212197e+01,   1.73702878e+01,   1.74193559e+01,\n",
        "         1.74684239e+01,   1.75174920e+01,   1.75665601e+01,\n",
        "         1.76156282e+01,   1.76646962e+01,   1.77137643e+01,\n",
        "         1.77628324e+01,   1.78119005e+01,   1.78609685e+01,\n",
        "         1.79100366e+01,   1.79591047e+01,   1.80081728e+01,\n",
        "         1.80572408e+01,   1.81063089e+01,   1.81553770e+01,\n",
        "         1.82044451e+01,   1.82535132e+01,   1.83025812e+01,\n",
        "         1.83516493e+01,   1.84007174e+01,   1.84497855e+01,\n",
        "         1.84988535e+01,   1.85479216e+01,   1.85969897e+01,\n",
        "         1.86460578e+01,   1.86951258e+01,   1.87441939e+01,\n",
        "         1.87932620e+01,   1.88423301e+01,   1.88913981e+01,\n",
        "         1.89404662e+01,   1.89895343e+01,   1.90386024e+01,\n",
        "         1.90876704e+01,   1.91367385e+01,   1.91858066e+01,\n",
        "         1.92348747e+01,   1.92839427e+01,   1.93330108e+01,\n",
        "         1.93820789e+01,   1.94311470e+01,   1.94802150e+01,\n",
        "         1.95292831e+01,   1.95783512e+01,   1.96274193e+01,\n",
        "         1.96764873e+01,   1.97255554e+01,   1.97746235e+01,\n",
        "         1.98236916e+01,   1.98727596e+01,   1.99218277e+01,\n",
        "         1.99708958e+01,   2.00199639e+01,   2.00690319e+01,\n",
        "         2.01181000e+01,   2.01671681e+01,   2.02162362e+01,\n",
        "         2.02653043e+01,   2.03143723e+01,   2.03634404e+01,\n",
        "         2.04125085e+01,   2.04615766e+01,   2.05106446e+01,\n",
        "         2.05597127e+01,   2.06087808e+01,   2.06578489e+01,\n",
        "         2.07069169e+01,   2.07559850e+01,   2.08050531e+01,\n",
        "         2.08541212e+01,   2.09031892e+01,   2.09522573e+01,\n",
        "         2.10013254e+01,   2.10503935e+01,   2.10994615e+01,\n",
        "         2.11485296e+01,   2.11975977e+01,   2.12466658e+01,\n",
        "         2.12957338e+01,   2.13448019e+01,   2.13938700e+01,\n",
        "         2.14429381e+01,   2.14920061e+01,   2.15410742e+01,\n",
        "         2.15901423e+01,   2.16392104e+01,   2.16882784e+01,\n",
        "         2.17373465e+01,   2.17864146e+01,   2.18354827e+01,\n",
        "         2.18845507e+01,   2.19336188e+01,   2.19826869e+01,\n",
        "         2.20317550e+01,   2.20808230e+01,   2.21298911e+01,\n",
        "         2.21789592e+01,   2.22280273e+01,   2.22770954e+01,\n",
        "         2.23261634e+01,   2.23752315e+01,   2.24242996e+01,\n",
        "         2.24733677e+01,   2.25224357e+01,   2.25715038e+01,\n",
        "         2.26205719e+01,   2.26696400e+01,   2.27187080e+01,\n",
        "         2.27677761e+01,   2.28168442e+01,   2.28659123e+01,\n",
        "         2.29149803e+01,   2.29640484e+01,   2.30131165e+01,\n",
        "         2.30621846e+01,   2.31112526e+01,   2.31603207e+01,\n",
        "         2.32093888e+01,   2.32584569e+01,   2.33075249e+01,\n",
        "         2.33565930e+01,   2.34056611e+01,   2.34547292e+01,\n",
        "         2.35037972e+01,   2.35528653e+01,   2.36019334e+01,\n",
        "         2.36510015e+01,   2.37000695e+01,   2.37491376e+01,\n",
        "         2.37982057e+01,   2.38472738e+01,   2.38963418e+01,\n",
        "         2.39454099e+01,   2.39944780e+01,   2.40435461e+01,\n",
        "         2.40926141e+01,   2.41416822e+01,   2.41907503e+01,\n",
        "         2.42398184e+01,   2.42888865e+01,   2.43379545e+01,\n",
        "         2.43870226e+01,   2.44360907e+01,   2.44851588e+01]), Phi=array([ 16.06070295,  16.06070436,  16.15570707,  16.43408253,\n",
        "        16.88179648,  17.47360921,  18.18075914,  18.96887476,\n",
        "        19.80376653,  20.65128106,  21.48277773,  22.28161936,\n",
        "        23.03232586,  23.72475678,  24.36046129,  24.94242467,\n",
        "        25.47363217,  25.95706907,  26.39572065,  26.79421409,\n",
        "        27.1578369 ,  27.48932172,  27.79137624,  28.06670814,\n",
        "        28.31802508,  28.54803476,  28.75944484,  28.954963  ,\n",
        "        29.13672783,  29.30560173,  29.46239455,  29.60791615,\n",
        "        29.74297639,  29.86838516,  29.9849523 ,  30.09348769,\n",
        "        30.1948012 ,  30.2897027 ,  30.37900204,  30.46350911,\n",
        "        30.54367904,  30.61956226,  30.69136324,  30.7592865 ,\n",
        "        30.82353654,  30.88431785,  30.94183493,  30.99629229,\n",
        "        31.04789442,  31.09684582,  31.143351  ,  31.18761445,\n",
        "        31.22984068,  31.27023418,  31.30899945,  31.34631071,\n",
        "        31.38218267,  31.41665363,  31.44977071,  31.48158101,\n",
        "        31.51213165,  31.54146974,  31.5696424 ,  31.59669675,\n",
        "        31.62267988,  31.64763892,  31.67162098,  31.69467318,\n",
        "        31.71684262,  31.73817642,  31.75872169,  31.77852555,\n",
        "        31.79763511,  31.81609748,  31.83395978,  31.85126911,\n",
        "        31.8680726 ,  31.88441735,  31.90034993,  31.91587011,\n",
        "        31.93096794,  31.94565283,  31.95993419,  31.97382141,\n",
        "        31.9873239 ,  32.00045107,  32.01321231,  32.02561704,\n",
        "        32.03767465,  32.04939456,  32.06078616,  32.07185886,\n",
        "        32.08262206,  32.09308517,  32.1032576 ,  32.11314873,\n",
        "        32.12276799,  32.13212477,  32.14122848,  32.15008852,\n",
        "        32.15871429,  32.16711521,  32.17530067,  32.18328008,\n",
        "        32.19106284,  32.19865835,  32.20607603,  32.21332527,\n",
        "        32.22041548,  32.22735606,  32.23415642,  32.24082596,\n",
        "        32.24737408,  32.25381019,  32.2601419 ,  32.26635954,\n",
        "        32.27246126,  32.27844877,  32.28432376,  32.29008792,\n",
        "        32.29574294,  32.30129051,  32.30673234,  32.31207012,\n",
        "        32.31730553,  32.32244028,  32.32747606,  32.33241456,\n",
        "        32.33725747,  32.34200649,  32.34666331,  32.35122964,\n",
        "        32.35570715,  32.36009755,  32.36440252,  32.36862377,\n",
        "        32.37276299,  32.37682186,  32.38080209,  32.38470537,\n",
        "        32.38853339,  32.39228785,  32.39597044,  32.39958285,\n",
        "        32.40312678,  32.40660392,  32.41001596,  32.41336461,\n",
        "        32.41665155,  32.41987848,  32.42304709,  32.42615907,\n",
        "        32.42921612,  32.43221994,  32.43517221,  32.43807464,\n",
        "        32.44092891,  32.44373672,  32.44649976,  32.44921973,\n",
        "        32.45189831,  32.45453722,  32.45713813,  32.45970274,\n",
        "        32.46223275,  32.46472985,  32.46719574,  32.4696321 ,\n",
        "        32.47204063,  32.47442303,  32.47677959,  32.47910657,\n",
        "        32.4814039 ,  32.48367184,  32.48591068,  32.48812071,\n",
        "        32.4903022 ,  32.49245544,  32.49458071,  32.49667829,\n",
        "        32.49874846,  32.50079151,  32.50280771,  32.50479736,\n",
        "        32.50676072,  32.50869809,  32.51060974,  32.51249596,\n",
        "        32.51435703,  32.51619323,  32.51800485,  32.51979215,\n",
        "        32.52155543,  32.52329498,  32.52501106,  32.52670396,\n",
        "        32.52837397,  32.53002136,  32.53164643,  32.53324944,\n",
        "        32.53483068,  32.53639044,  32.537929  ,  32.53944663,\n",
        "        32.54094362,  32.54242025,  32.54387681,  32.54531357,\n",
        "        32.54673082,  32.54812884,  32.54950791,  32.55086831,\n",
        "        32.55221033,  32.55353425,  32.55484034,  32.5561289 ,\n",
        "        32.5574002 ,  32.55865452,  32.55989215,  32.56111337,\n",
        "        32.56231846,  32.5635077 ,  32.56468138,  32.56583977,\n",
        "        32.56698316,  32.56811183,  32.56922607,  32.57032615,\n",
        "        32.57141235,  32.57248496,  32.57354427,  32.57459054,\n",
        "        32.57562407,  32.57664513,  32.57765402,  32.578651  ,\n",
        "        32.57963636,  32.58061039,  32.58157336,  32.58252556,\n",
        "        32.58346727,  32.58439877,  32.58532034,  32.58623227,\n",
        "        32.58713484,  32.58802832,  32.58891301,  32.58978918,\n",
        "        32.59065711,  32.59151709,  32.5923694 ,  32.59321432,\n",
        "        32.59405213,  32.59488312,  32.59570756,  32.59652574,\n",
        "        32.59733794,  32.59814445,  32.59894554,  32.59974149,\n",
        "        32.60053204,  32.60131593,  32.60209315,  32.60286375,\n",
        "        32.60362775,  32.60438521,  32.60513616,  32.60588065,\n",
        "        32.60661873,  32.60735042,  32.60807578,  32.60879484,\n",
        "        32.60950765,  32.61021425,  32.61091469,  32.611609  ,\n",
        "        32.61229722,  32.61297941,  32.61365559,  32.61432582,\n",
        "        32.61499013,  32.61564857,  32.61630117,  32.61694799,\n",
        "        32.61758906,  32.61822443,  32.61885413,  32.61947822,\n",
        "        32.62009672,  32.62070969,  32.62131716,  32.62191918,\n",
        "        32.62251579,  32.62310703,  32.62369295,  32.62427358,\n",
        "        32.62484897,  32.62541916,  32.62598419,  32.6265441 ,\n",
        "        32.62709895,  32.62764876,  32.62819357,  32.62873345,\n",
        "        32.62926841,  32.62979852,  32.6303238 ,  32.6308443 ,\n",
        "        32.63136006,  32.63187113,  32.63237755,  32.63287936,\n",
        "        32.63337659,  32.6338693 ,  32.63435752,  32.63484131,\n",
        "        32.63532069,  32.63579571,  32.63626641,  32.63673285,\n",
        "        32.63719504,  32.63765305,  32.63810691,  32.63855667,\n",
        "        32.63900235,  32.63944402,  32.63988171,  32.64031546,\n",
        "        32.64074531,  32.64117131,  32.6415935 ,  32.64201192,\n",
        "        32.64242661,  32.64283761,  32.64324497,  32.64364873,\n",
        "        32.64404893,  32.64444562,  32.64483882,  32.6452286 ,\n",
        "        32.64561498,  32.64599802,  32.64637774,  32.64675421,\n",
        "        32.64712745,  32.64749751,  32.64786443,  32.64822825,\n",
        "        32.64858902,  32.64894678,  32.64930156,  32.64965342,\n",
        "        32.6500024 ,  32.65034852,  32.65069185,  32.65103242,\n",
        "        32.65137026,  32.65170544,  32.65203797,  32.65236792,\n",
        "        32.65269532,  32.65302021,  32.65334263,  32.65366263,\n",
        "        32.65398025,  32.65429553,  32.65460851,  32.65491924,\n",
        "        32.65522775,  32.65553409,  32.65583831,  32.65614043,\n",
        "        32.65644052,  32.6567386 ,  32.65703471,  32.65732891,\n",
        "        32.65762124,  32.65791173,  32.65820042,  32.65848737,\n",
        "        32.65877261,  32.65905618,  32.65933812,  32.65961849,\n",
        "        32.65989732,  32.66017464,  32.66045051,  32.66072497,\n",
        "        32.66099806,  32.66126981,  32.66154028,  32.66180951,\n",
        "        32.66207753,  32.66234438,  32.66261012,  32.66287478,\n",
        "        32.66313841,  32.66340104,  32.66366273,  32.6639235 ,\n",
        "        32.66418341,  32.66444249,  32.66470079,  32.66495833,\n",
        "        32.66521476,  32.66546997,  32.66572395,  32.66597671,\n",
        "        32.66622825,  32.66647859,  32.66672772,  32.66697566,\n",
        "        32.6672224 ,  32.66746797,  32.66771235,  32.66795557,\n",
        "        32.66819762,  32.66843851,  32.66867824,  32.66891683,\n",
        "        32.66915428,  32.6693906 ,  32.66962578,  32.66985985,\n",
        "        32.67009279,  32.67032463,  32.67055536,  32.670785  ,\n",
        "        32.67101354,  32.671241  ,  32.67146737,  32.67169268,\n",
        "        32.67191691,  32.67214009,  32.67236221,  32.67258328,\n",
        "        32.67280331,  32.6730223 ,  32.67324026,  32.6734572 ,\n",
        "        32.67367312,  32.67388802,  32.67410192,  32.67431482,\n",
        "        32.67452673,  32.67473765,  32.67494759,  32.67515655,\n",
        "        32.67536454,  32.67557157,  32.67577764,  32.67598276,\n",
        "        32.67618694,  32.67639018,  32.67659248,  32.67679386,\n",
        "        32.67699432,  32.67719386,  32.6773925 ,  32.67759023,\n",
        "        32.67778707,  32.67798302,  32.67817808,  32.67837227,\n",
        "        32.67856559,  32.67875804,  32.67894963,  32.67914037,\n",
        "        32.67933026,  32.67951931,  32.67970753,  32.67989492,\n",
        "        32.68008149,  32.68026724,  32.68045218,  32.68063631,\n",
        "        32.68081965,  32.6810022 ,  32.68118396,  32.68136494,\n",
        "        32.68154515,  32.68172459,  32.68190327,  32.6820812 ,\n",
        "        32.68225838,  32.68243481,  32.68261051,  32.68278548,\n",
        "        32.68295972,  32.68313324,  32.68330606,  32.68347816,\n",
        "        32.68364957,  32.68382028,  32.68399031,  32.68415965,\n",
        "        32.68432832,  32.68449632,  32.68466366,  32.68483034,  32.68499637]), dPhi=array([  0.00000000e+00,   1.48628822e-02,   3.83824959e+00,\n",
        "         7.45753167e+00,   1.06784850e+01,   1.33545616e+01,\n",
        "         1.53559381e+01,   1.66386269e+01,   1.72421400e+01,\n",
        "         1.72151819e+01,   1.66835575e+01,   1.58019312e+01,\n",
        "         1.47218376e+01,   1.35931922e+01,   1.24712711e+01,\n",
        "         1.13784943e+01,   1.03372821e+01,   9.37005451e+00,\n",
        "         8.49923180e+00,   7.72858029e+00,   7.03550966e+00,\n",
        "         6.41374361e+00,   5.85722736e+00,   5.35990616e+00,\n",
        "         4.91572524e+00,   4.51862986e+00,   4.16256525e+00,\n",
        "         3.84147666e+00,   3.54978438e+00,   3.28467389e+00,\n",
        "         3.04425137e+00,   2.82662302e+00,   2.62989506e+00,\n",
        "         2.45217370e+00,   2.29156515e+00,   2.14617562e+00,\n",
        "         2.01411133e+00,   1.89347848e+00,   1.78238328e+00,\n",
        "         1.67893195e+00,   1.58223139e+00,   1.49240136e+00,\n",
        "         1.40906224e+00,   1.33183437e+00,   1.26033810e+00,\n",
        "         1.19419378e+00,   1.13302178e+00,   1.07644242e+00,\n",
        "         1.02407608e+00,   9.75543107e-01,   9.30463844e-01,\n",
        "         8.88458647e-01,   8.49147869e-01,   8.12151862e-01,\n",
        "         7.77090978e-01,   7.43664134e-01,   7.11943869e-01,\n",
        "         6.81890377e-01,   6.53438565e-01,   6.26523341e-01,\n",
        "         6.01079614e-01,   5.77042290e-01,   5.54346277e-01,\n",
        "         5.32926483e-01,   5.12717815e-01,   4.93655182e-01,\n",
        "         4.75673491e-01,   4.58707649e-01,   4.42692564e-01,\n",
        "         4.27563145e-01,   4.13254298e-01,   3.99700932e-01,\n",
        "         3.86837953e-01,   3.74600270e-01,   3.62922791e-01,\n",
        "         3.51740423e-01,   3.40988073e-01,   3.30600650e-01,\n",
        "         3.20514150e-01,   3.10752364e-01,   3.01346291e-01,\n",
        "         2.92286768e-01,   2.83564632e-01,   2.75170719e-01,\n",
        "         2.67095869e-01,   2.59330918e-01,   2.51866703e-01,\n",
        "         2.44694062e-01,   2.37803832e-01,   2.31186851e-01,\n",
        "         2.24833955e-01,   2.18735983e-01,   2.12883772e-01,\n",
        "         2.07268159e-01,   2.01879981e-01,   1.96710075e-01,\n",
        "         1.91749280e-01,   1.86988433e-01,   1.82418370e-01,\n",
        "         1.78029930e-01,   1.73813949e-01,   1.69761265e-01,\n",
        "         1.65862716e-01,   1.62109138e-01,   1.58491369e-01,\n",
        "         1.55000247e-01,   1.51626609e-01,   1.48361292e-01,\n",
        "         1.45195133e-01,   1.42118970e-01,   1.39123641e-01,\n",
        "         1.36199983e-01,   1.33338832e-01,   1.30531027e-01,\n",
        "         1.27769832e-01,   1.25071006e-01,   1.22438349e-01,\n",
        "         1.19870746e-01,   1.17367083e-01,   1.14926247e-01,\n",
        "         1.12547123e-01,   1.10228599e-01,   1.07969561e-01,\n",
        "         1.05768894e-01,   1.03625486e-01,   1.01538222e-01,\n",
        "         9.95059885e-02,   9.75276724e-02,   9.56021597e-02,\n",
        "         9.37283366e-02,   9.19050896e-02,   9.01313049e-02,\n",
        "         8.84058687e-02,   8.67276675e-02,   8.50955875e-02,\n",
        "         8.35085149e-02,   8.19653363e-02,   8.04649377e-02,\n",
        "         7.90062055e-02,   7.75880261e-02,   7.62092857e-02,\n",
        "         7.48688707e-02,   7.35656673e-02,   7.22985618e-02,\n",
        "         7.10664406e-02,   6.98681899e-02,   6.87026961e-02,\n",
        "         6.75688454e-02,   6.64655242e-02,   6.53916188e-02,\n",
        "         6.43460154e-02,   6.33276004e-02,   6.23352601e-02,\n",
        "         6.13678808e-02,   6.04243487e-02,   5.95035503e-02,\n",
        "         5.86043717e-02,   5.77256993e-02,   5.68664195e-02,\n",
        "         5.60254184e-02,   5.52015824e-02,   5.43937979e-02,\n",
        "         5.36009510e-02,   5.28219282e-02,   5.20556157e-02,\n",
        "         5.13008998e-02,   5.05566669e-02,   4.98218032e-02,\n",
        "         4.90951950e-02,   4.83757286e-02,   4.76636155e-02,\n",
        "         4.69627185e-02,   4.62732715e-02,   4.55951516e-02,\n",
        "         4.49282363e-02,   4.42724028e-02,   4.36275283e-02,\n",
        "         4.29934903e-02,   4.23701660e-02,   4.17574327e-02,\n",
        "         4.11551677e-02,   4.05632484e-02,   3.99815520e-02,\n",
        "         3.94099558e-02,   3.88483372e-02,   3.82965733e-02,\n",
        "         3.77545417e-02,   3.72221195e-02,   3.66991840e-02,\n",
        "         3.61856126e-02,   3.56812825e-02,   3.51860711e-02,\n",
        "         3.46998557e-02,   3.42225136e-02,   3.37539220e-02,\n",
        "         3.32939582e-02,   3.28424997e-02,   3.23994237e-02,\n",
        "         3.19646074e-02,   3.15379282e-02,   3.11192634e-02,\n",
        "         3.07084903e-02,   3.03054862e-02,   2.99101285e-02,\n",
        "         2.95222943e-02,   2.91418610e-02,   2.87687060e-02,\n",
        "         2.84027064e-02,   2.80437397e-02,   2.76916831e-02,\n",
        "         2.73464140e-02,   2.70078095e-02,   2.66757471e-02,\n",
        "         2.63501041e-02,   2.60307577e-02,   2.57175852e-02,\n",
        "         2.54104640e-02,   2.51092713e-02,   2.48138845e-02,\n",
        "         2.45241808e-02,   2.42400377e-02,   2.39613322e-02,\n",
        "         2.36879419e-02,   2.34197439e-02,   2.31566156e-02,\n",
        "         2.28984343e-02,   2.26450773e-02,   2.23964219e-02,\n",
        "         2.21523453e-02,   2.19127250e-02,   2.16774381e-02,\n",
        "         2.14463621e-02,   2.12193741e-02,   2.09963516e-02,\n",
        "         2.07771718e-02,   2.05617120e-02,   2.03498495e-02,\n",
        "         2.01414616e-02,   1.99364257e-02,   1.97346190e-02,\n",
        "         1.95359188e-02,   1.93402025e-02,   1.91473473e-02,\n",
        "         1.89572306e-02,   1.87697296e-02,   1.85847217e-02,\n",
        "         1.84020841e-02,   1.82216942e-02,   1.80434292e-02,\n",
        "         1.78671665e-02,   1.76927834e-02,   1.75201572e-02,\n",
        "         1.73491651e-02,   1.71796845e-02,   1.70115927e-02,\n",
        "         1.68447670e-02,   1.66790847e-02,   1.65144230e-02,\n",
        "         1.63506594e-02,   1.61876711e-02,   1.60256620e-02,\n",
        "         1.58653866e-02,   1.57068712e-02,   1.55501039e-02,\n",
        "         1.53950725e-02,   1.52417650e-02,   1.50901695e-02,\n",
        "         1.49402739e-02,   1.47920662e-02,   1.46455343e-02,\n",
        "         1.45006662e-02,   1.43574499e-02,   1.42158734e-02,\n",
        "         1.40759246e-02,   1.39375916e-02,   1.38008622e-02,\n",
        "         1.36657245e-02,   1.35321665e-02,   1.34001761e-02,\n",
        "         1.32697412e-02,   1.31408500e-02,   1.30134902e-02,\n",
        "         1.28876500e-02,   1.27633173e-02,   1.26404800e-02,\n",
        "         1.25191262e-02,   1.23992437e-02,   1.22808207e-02,\n",
        "         1.21638450e-02,   1.20483047e-02,   1.19341876e-02,\n",
        "         1.18214819e-02,   1.17101754e-02,   1.16002561e-02,\n",
        "         1.14917120e-02,   1.13845311e-02,   1.12787014e-02,\n",
        "         1.11742108e-02,   1.10710473e-02,   1.09691989e-02,\n",
        "         1.08686535e-02,   1.07693991e-02,   1.06714238e-02,\n",
        "         1.05747154e-02,   1.04792620e-02,   1.03850515e-02,\n",
        "         1.02920719e-02,   1.02003111e-02,   1.01097572e-02,\n",
        "         1.00203982e-02,   9.93222189e-03,   9.84521638e-03,\n",
        "         9.75936961e-03,   9.67466955e-03,   9.59110419e-03,\n",
        "         9.50866150e-03,   9.42732944e-03,   9.34709600e-03,\n",
        "         9.26794915e-03,   9.18987685e-03,   9.11286710e-03,\n",
        "         9.03690786e-03,   8.96198710e-03,   8.88809280e-03,\n",
        "         8.81521294e-03,   8.74333549e-03,   8.67244842e-03,\n",
        "         8.60253970e-03,   8.53359732e-03,   8.46560924e-03,\n",
        "         8.39856345e-03,   8.33244791e-03,   8.26725059e-03,\n",
        "         8.20295948e-03,   8.13956255e-03,   8.07704777e-03,\n",
        "         8.01540311e-03,   7.95461656e-03,   7.89467608e-03,\n",
        "         7.83556965e-03,   7.77728524e-03,   7.71981083e-03,\n",
        "         7.66313439e-03,   7.60724390e-03,   7.55212733e-03,\n",
        "         7.49777265e-03,   7.44416784e-03,   7.39130088e-03,\n",
        "         7.33915973e-03,   7.28773237e-03,   7.23700678e-03,\n",
        "         7.18697094e-03,   7.13761280e-03,   7.08892036e-03,\n",
        "         7.04088158e-03,   6.99348444e-03,   6.94671691e-03,\n",
        "         6.90056696e-03,   6.85502258e-03,   6.81007173e-03,\n",
        "         6.76570239e-03,   6.72190254e-03,   6.67866014e-03,\n",
        "         6.63596318e-03,   6.59379962e-03,   6.55215745e-03,\n",
        "         6.51102462e-03,   6.47038913e-03,   6.43023894e-03,\n",
        "         6.39056203e-03,   6.35134638e-03,   6.31257995e-03,\n",
        "         6.27425072e-03,   6.23634667e-03,   6.19885576e-03,\n",
        "         6.16176598e-03,   6.12506530e-03,   6.08874169e-03,\n",
        "         6.05278313e-03,   6.01717759e-03,   5.98191305e-03,\n",
        "         5.94697747e-03,   5.91235884e-03,   5.87804513e-03,\n",
        "         5.84402431e-03,   5.81028436e-03,   5.77681325e-03,\n",
        "         5.74359895e-03,   5.71062945e-03,   5.67789271e-03,\n",
        "         5.64537671e-03,   5.61306942e-03,   5.58095882e-03,\n",
        "         5.54903288e-03,   5.51727957e-03,   5.48568688e-03,\n",
        "         5.45424277e-03,   5.42293522e-03,   5.39175221e-03,\n",
        "         5.36068170e-03,   5.32971167e-03,   5.29883010e-03,\n",
        "         5.26802496e-03,   5.23729130e-03,   5.20675347e-03,\n",
        "         5.17646016e-03,   5.14641041e-03,   5.11660327e-03,\n",
        "         5.08703779e-03,   5.05771301e-03,   5.02862800e-03,\n",
        "         4.99978178e-03,   4.97117342e-03,   4.94280196e-03,\n",
        "         4.91466644e-03,   4.88676593e-03,   4.85909945e-03,\n",
        "         4.83166607e-03,   4.80446483e-03,   4.77749478e-03,\n",
        "         4.75075496e-03,   4.72424443e-03,   4.69796223e-03,\n",
        "         4.67190742e-03,   4.64607903e-03,   4.62047612e-03,\n",
        "         4.59509773e-03,   4.56994292e-03,   4.54501073e-03,\n",
        "         4.52030021e-03,   4.49581040e-03,   4.47154036e-03,\n",
        "         4.44748914e-03,   4.42365578e-03,   4.40003932e-03,\n",
        "         4.37663883e-03,   4.35345334e-03,   4.33048191e-03,\n",
        "         4.30772358e-03,   4.28517739e-03,   4.26284241e-03,\n",
        "         4.24071768e-03,   4.21880224e-03,   4.19709514e-03,\n",
        "         4.17559543e-03,   4.15430217e-03,   4.13321439e-03,\n",
        "         4.11233114e-03,   4.09165148e-03,   4.07117445e-03,\n",
        "         4.05089910e-03,   4.03082448e-03,   4.01094963e-03,\n",
        "         3.99127361e-03,   3.97179546e-03,   3.95251423e-03,\n",
        "         3.93342897e-03,   3.91453872e-03,   3.89584254e-03,\n",
        "         3.87733947e-03,   3.85902856e-03,   3.84090887e-03,\n",
        "         3.82297942e-03,   3.80523929e-03,   3.78768750e-03,\n",
        "         3.77032312e-03,   3.75314519e-03,   3.73615275e-03,\n",
        "         3.71934486e-03,   3.70272057e-03,   3.68627891e-03,\n",
        "         3.67001895e-03,   3.65393972e-03,   3.63804028e-03,\n",
        "         3.62231967e-03,   3.60677695e-03,   3.59141115e-03,\n",
        "         3.57622134e-03,   3.56120655e-03,   3.54636583e-03,\n",
        "         3.53169824e-03,   3.51720282e-03,   3.50287862e-03,\n",
        "         3.48872468e-03,   3.47474006e-03,   3.46092380e-03,\n",
        "         3.44727496e-03,   3.43379257e-03,   3.42047569e-03,\n",
        "         3.40732337e-03,   3.39433465e-03,   3.38150859e-03,\n",
        "         3.36884422e-03,   3.35634060e-03,   3.34399678e-03,\n",
        "         3.33181180e-03,   3.31978471e-03,   3.30791457e-03,\n",
        "         3.29620041e-03,   3.28464129e-03,   3.27323625e-03]), Rerr=None), Phi=array([[  1.66201185e+01],\n",
        "       [  1.66201171e+01],\n",
        "       [  1.65251144e+01],\n",
        "       [  1.62467389e+01],\n",
        "       [  1.57990250e+01],\n",
        "       [  1.52072122e+01],\n",
        "       [  1.45000623e+01],\n",
        "       [  1.37119467e+01],\n",
        "       [  1.28770549e+01],\n",
        "       [  1.20295404e+01],\n",
        "       [  1.11980437e+01],\n",
        "       [  1.03992021e+01],\n",
        "       [  9.64849558e+00],\n",
        "       [  8.95606465e+00],\n",
        "       [  8.32036014e+00],\n",
        "       [  7.73839676e+00],\n",
        "       [  7.20718926e+00],\n",
        "       [  6.72375236e+00],\n",
        "       [  6.28510078e+00],\n",
        "       [  5.88660734e+00],\n",
        "       [  5.52298454e+00],\n",
        "       [  5.19149971e+00],\n",
        "       [  4.88944519e+00],\n",
        "       [  4.61411330e+00],\n",
        "       [  4.36279635e+00],\n",
        "       [  4.13278667e+00],\n",
        "       [  3.92137659e+00],\n",
        "       [  3.72585843e+00],\n",
        "       [  3.54409360e+00],\n",
        "       [  3.37521970e+00],\n",
        "       [  3.21842688e+00],\n",
        "       [  3.07290528e+00],\n",
        "       [  2.93784504e+00],\n",
        "       [  2.81243628e+00],\n",
        "       [  2.69586913e+00],\n",
        "       [  2.58733374e+00],\n",
        "       [  2.48602023e+00],\n",
        "       [  2.39111873e+00],\n",
        "       [  2.30181939e+00],\n",
        "       [  2.21731232e+00],\n",
        "       [  2.13714239e+00],\n",
        "       [  2.06125917e+00],\n",
        "       [  1.98945819e+00],\n",
        "       [  1.92153493e+00],\n",
        "       [  1.85728489e+00],\n",
        "       [  1.79650359e+00],\n",
        "       [  1.73898650e+00],\n",
        "       [  1.68452915e+00],\n",
        "       [  1.63292702e+00],\n",
        "       [  1.58397561e+00],\n",
        "       [  1.53747043e+00],\n",
        "       [  1.49320698e+00],\n",
        "       [  1.45098076e+00],\n",
        "       [  1.41058726e+00],\n",
        "       [  1.37182198e+00],\n",
        "       [  1.33451072e+00],\n",
        "       [  1.29863876e+00],\n",
        "       [  1.26416780e+00],\n",
        "       [  1.23105073e+00],\n",
        "       [  1.19924042e+00],\n",
        "       [  1.16868978e+00],\n",
        "       [  1.13935169e+00],\n",
        "       [  1.11117903e+00],\n",
        "       [  1.08412469e+00],\n",
        "       [  1.05814155e+00],\n",
        "       [  1.03318251e+00],\n",
        "       [  1.00920045e+00],\n",
        "       [  9.86148254e-01],\n",
        "       [  9.63978813e-01],\n",
        "       [  9.42645013e-01],\n",
        "       [  9.22099740e-01],\n",
        "       [  9.02295881e-01],\n",
        "       [  8.83186322e-01],\n",
        "       [  8.64723952e-01],\n",
        "       [  8.46861655e-01],\n",
        "       [  8.29552319e-01],\n",
        "       [  8.12748831e-01],\n",
        "       [  7.96404078e-01],\n",
        "       [  7.80471502e-01],\n",
        "       [  7.64951322e-01],\n",
        "       [  7.49853489e-01],\n",
        "       [  7.35168597e-01],\n",
        "       [  7.20887243e-01],\n",
        "       [  7.07000022e-01],\n",
        "       [  6.93497530e-01],\n",
        "       [  6.80370364e-01],\n",
        "       [  6.67609119e-01],\n",
        "       [  6.55204392e-01],\n",
        "       [  6.43146777e-01],\n",
        "       [  6.31426871e-01],\n",
        "       [  6.20035271e-01],\n",
        "       [  6.08962571e-01],\n",
        "       [  5.98199368e-01],\n",
        "       [  5.87736257e-01],\n",
        "       [  5.77563836e-01],\n",
        "       [  5.67672699e-01],\n",
        "       [  5.58053442e-01],\n",
        "       [  5.48696662e-01],\n",
        "       [  5.39592954e-01],\n",
        "       [  5.30732914e-01],\n",
        "       [  5.22107138e-01],\n",
        "       [  5.13706223e-01],\n",
        "       [  5.05520763e-01],\n",
        "       [  4.97541356e-01],\n",
        "       [  4.89758596e-01],\n",
        "       [  4.82163080e-01],\n",
        "       [  4.74745404e-01],\n",
        "       [  4.67496163e-01],\n",
        "       [  4.60405954e-01],\n",
        "       [  4.53465372e-01],\n",
        "       [  4.46665014e-01],\n",
        "       [  4.39995475e-01],\n",
        "       [  4.33447351e-01],\n",
        "       [  4.27011238e-01],\n",
        "       [  4.20679534e-01],\n",
        "       [  4.14461894e-01],\n",
        "       [  4.08360167e-01],\n",
        "       [  4.02372657e-01],\n",
        "       [  3.96497671e-01],\n",
        "       [  3.90733515e-01],\n",
        "       [  3.85078495e-01],\n",
        "       [  3.79530917e-01],\n",
        "       [  3.74089087e-01],\n",
        "       [  3.68751312e-01],\n",
        "       [  3.63515897e-01],\n",
        "       [  3.58381149e-01],\n",
        "       [  3.53345373e-01],\n",
        "       [  3.48406876e-01],\n",
        "       [  3.43563964e-01],\n",
        "       [  3.38814942e-01],\n",
        "       [  3.34158118e-01],\n",
        "       [  3.29591796e-01],\n",
        "       [  3.25114283e-01],\n",
        "       [  3.20723886e-01],\n",
        "       [  3.16418910e-01],\n",
        "       [  3.12197661e-01],\n",
        "       [  3.08058445e-01],\n",
        "       [  3.03999570e-01],\n",
        "       [  3.00019339e-01],\n",
        "       [  2.96116060e-01],\n",
        "       [  2.92288039e-01],\n",
        "       [  2.88533582e-01],\n",
        "       [  2.84850995e-01],\n",
        "       [  2.81238584e-01],\n",
        "       [  2.77694655e-01],\n",
        "       [  2.74217514e-01],\n",
        "       [  2.70805467e-01],\n",
        "       [  2.67456821e-01],\n",
        "       [  2.64169881e-01],\n",
        "       [  2.60942953e-01],\n",
        "       [  2.57774344e-01],\n",
        "       [  2.54662360e-01],\n",
        "       [  2.51605307e-01],\n",
        "       [  2.48601490e-01],\n",
        "       [  2.45649217e-01],\n",
        "       [  2.42746792e-01],\n",
        "       [  2.39892522e-01],\n",
        "       [  2.37084714e-01],\n",
        "       [  2.34321673e-01],\n",
        "       [  2.31601705e-01],\n",
        "       [  2.28923117e-01],\n",
        "       [  2.26284214e-01],\n",
        "       [  2.23683303e-01],\n",
        "       [  2.21118689e-01],\n",
        "       [  2.18588679e-01],\n",
        "       [  2.16091579e-01],\n",
        "       [  2.13625695e-01],\n",
        "       [  2.11189333e-01],\n",
        "       [  2.08780799e-01],\n",
        "       [  2.06398400e-01],\n",
        "       [  2.04041841e-01],\n",
        "       [  2.01714857e-01],\n",
        "       [  1.99417536e-01],\n",
        "       [  1.97149595e-01],\n",
        "       [  1.94910752e-01],\n",
        "       [  1.92700725e-01],\n",
        "       [  1.90519233e-01],\n",
        "       [  1.88365994e-01],\n",
        "       [  1.86240725e-01],\n",
        "       [  1.84143145e-01],\n",
        "       [  1.82072972e-01],\n",
        "       [  1.80029924e-01],\n",
        "       [  1.78013718e-01],\n",
        "       [  1.76024074e-01],\n",
        "       [  1.74060708e-01],\n",
        "       [  1.72123340e-01],\n",
        "       [  1.70211687e-01],\n",
        "       [  1.68325466e-01],\n",
        "       [  1.66464398e-01],\n",
        "       [  1.64628198e-01],\n",
        "       [  1.62816586e-01],\n",
        "       [  1.61029280e-01],\n",
        "       [  1.59265997e-01],\n",
        "       [  1.57526455e-01],\n",
        "       [  1.55810374e-01],\n",
        "       [  1.54117470e-01],\n",
        "       [  1.52447461e-01],\n",
        "       [  1.50800067e-01],\n",
        "       [  1.49175005e-01],\n",
        "       [  1.47571992e-01],\n",
        "       [  1.45990748e-01],\n",
        "       [  1.44430990e-01],\n",
        "       [  1.42892435e-01],\n",
        "       [  1.41374804e-01],\n",
        "       [  1.39877812e-01],\n",
        "       [  1.38401179e-01],\n",
        "       [  1.36944622e-01],\n",
        "       [  1.35507860e-01],\n",
        "       [  1.34090611e-01],\n",
        "       [  1.32692592e-01],\n",
        "       [  1.31313522e-01],\n",
        "       [  1.29953118e-01],\n",
        "       [  1.28611100e-01],\n",
        "       [  1.27287184e-01],\n",
        "       [  1.25981089e-01],\n",
        "       [  1.24692533e-01],\n",
        "       [  1.23421235e-01],\n",
        "       [  1.22166911e-01],\n",
        "       [  1.20929281e-01],\n",
        "       [  1.19708062e-01],\n",
        "       [  1.18502972e-01],\n",
        "       [  1.17313730e-01],\n",
        "       [  1.16140053e-01],\n",
        "       [  1.14981660e-01],\n",
        "       [  1.13838269e-01],\n",
        "       [  1.12709597e-01],\n",
        "       [  1.11595363e-01],\n",
        "       [  1.10495284e-01],\n",
        "       [  1.09409080e-01],\n",
        "       [  1.08336467e-01],\n",
        "       [  1.07277165e-01],\n",
        "       [  1.06230890e-01],\n",
        "       [  1.05197362e-01],\n",
        "       [  1.04176298e-01],\n",
        "       [  1.03167416e-01],\n",
        "       [  1.02170434e-01],\n",
        "       [  1.01185071e-01],\n",
        "       [  1.00211044e-01],\n",
        "       [  9.92480719e-02],\n",
        "       [  9.82958722e-02],\n",
        "       [  9.73541632e-02],\n",
        "       [  9.64226629e-02],\n",
        "       [  9.55010893e-02],\n",
        "       [  9.45891606e-02],\n",
        "       [  9.36865948e-02],\n",
        "       [  9.27931100e-02],\n",
        "       [  9.19084242e-02],\n",
        "       [  9.10322555e-02],\n",
        "       [  9.01643220e-02],\n",
        "       [  8.93043417e-02],\n",
        "       [  8.84520327e-02],\n",
        "       [  8.76071130e-02],\n",
        "       [  8.67693008e-02],\n",
        "       [  8.59383140e-02],\n",
        "       [  8.51138708e-02],\n",
        "       [  8.42956892e-02],\n",
        "       [  8.34834873e-02],\n",
        "       [  8.26769832e-02],\n",
        "       [  8.18758948e-02],\n",
        "       [  8.10799403e-02],\n",
        "       [  8.02893951e-02],\n",
        "       [  7.95054995e-02],\n",
        "       [  7.87282765e-02],\n",
        "       [  7.79576839e-02],\n",
        "       [  7.71936797e-02],\n",
        "       [  7.64362218e-02],\n",
        "       [  7.56852682e-02],\n",
        "       [  7.49407767e-02],\n",
        "       [  7.42027052e-02],\n",
        "       [  7.34710119e-02],\n",
        "       [  7.27456544e-02],\n",
        "       [  7.20265909e-02],\n",
        "       [  7.13137792e-02],\n",
        "       [  7.06071772e-02],\n",
        "       [  6.99067429e-02],\n",
        "       [  6.92124342e-02],\n",
        "       [  6.85242091e-02],\n",
        "       [  6.78420254e-02],\n",
        "       [  6.71658411e-02],\n",
        "       [  6.64956141e-02],\n",
        "       [  6.58313025e-02],\n",
        "       [  6.51728639e-02],\n",
        "       [  6.45202566e-02],\n",
        "       [  6.38734382e-02],\n",
        "       [  6.32323669e-02],\n",
        "       [  6.25970004e-02],\n",
        "       [  6.19672968e-02],\n",
        "       [  6.13432140e-02],\n",
        "       [  6.07247099e-02],\n",
        "       [  6.01117424e-02],\n",
        "       [  5.95042694e-02],\n",
        "       [  5.89022490e-02],\n",
        "       [  5.83056390e-02],\n",
        "       [  5.77143973e-02],\n",
        "       [  5.71284819e-02],\n",
        "       [  5.65478508e-02],\n",
        "       [  5.59724617e-02],\n",
        "       [  5.54022728e-02],\n",
        "       [  5.48372418e-02],\n",
        "       [  5.42773268e-02],\n",
        "       [  5.37224857e-02],\n",
        "       [  5.31726763e-02],\n",
        "       [  5.26278567e-02],\n",
        "       [  5.20879847e-02],\n",
        "       [  5.15530184e-02],\n",
        "       [  5.10229155e-02],\n",
        "       [  5.04976341e-02],\n",
        "       [  4.99771320e-02],\n",
        "       [  4.94613673e-02],\n",
        "       [  4.89502978e-02],\n",
        "       [  4.84438815e-02],\n",
        "       [  4.79420763e-02],\n",
        "       [  4.74448401e-02],\n",
        "       [  4.69521308e-02],\n",
        "       [  4.64639065e-02],\n",
        "       [  4.59801250e-02],\n",
        "       [  4.55007442e-02],\n",
        "       [  4.50257221e-02],\n",
        "       [  4.45550166e-02],\n",
        "       [  4.40885857e-02],\n",
        "       [  4.36263872e-02],\n",
        "       [  4.31683791e-02],\n",
        "       [  4.27145194e-02],\n",
        "       [  4.22647659e-02],\n",
        "       [  4.18190766e-02],\n",
        "       [  4.13774094e-02],\n",
        "       [  4.09397223e-02],\n",
        "       [  4.05059732e-02],\n",
        "       [  4.00761200e-02],\n",
        "       [  3.96501206e-02],\n",
        "       [  3.92279330e-02],\n",
        "       [  3.88095152e-02],\n",
        "       [  3.83948249e-02],\n",
        "       [  3.79838202e-02],\n",
        "       [  3.75764590e-02],\n",
        "       [  3.71726993e-02],\n",
        "       [  3.67724988e-02],\n",
        "       [  3.63758157e-02],\n",
        "       [  3.59826078e-02],\n",
        "       [  3.55928331e-02],\n",
        "       [  3.52064494e-02],\n",
        "       [  3.48234147e-02],\n",
        "       [  3.44436870e-02],\n",
        "       [  3.40672241e-02],\n",
        "       [  3.36939840e-02],\n",
        "       [  3.33239247e-02],\n",
        "       [  3.29570040e-02],\n",
        "       [  3.25931799e-02],\n",
        "       [  3.22324103e-02],\n",
        "       [  3.18746532e-02],\n",
        "       [  3.15198665e-02],\n",
        "       [  3.11680080e-02],\n",
        "       [  3.08190359e-02],\n",
        "       [  3.04729078e-02],\n",
        "       [  3.01295819e-02],\n",
        "       [  2.97890160e-02],\n",
        "       [  2.94511681e-02],\n",
        "       [  2.91159961e-02],\n",
        "       [  2.87834579e-02],\n",
        "       [  2.84535114e-02],\n",
        "       [  2.81261146e-02],\n",
        "       [  2.78012255e-02],\n",
        "       [  2.74788019e-02],\n",
        "       [  2.71588017e-02],\n",
        "       [  2.68411830e-02],\n",
        "       [  2.65259036e-02],\n",
        "       [  2.62129215e-02],\n",
        "       [  2.59021945e-02],\n",
        "       [  2.55936807e-02],\n",
        "       [  2.52873380e-02],\n",
        "       [  2.49831242e-02],\n",
        "       [  2.46809973e-02],\n",
        "       [  2.43809153e-02],\n",
        "       [  2.40828361e-02],\n",
        "       [  2.37867176e-02],\n",
        "       [  2.34925177e-02],\n",
        "       [  2.32001944e-02],\n",
        "       [  2.29097056e-02],\n",
        "       [  2.26210092e-02],\n",
        "       [  2.23340632e-02],\n",
        "       [  2.20488254e-02],\n",
        "       [  2.17652539e-02],\n",
        "       [  2.14833065e-02],\n",
        "       [  2.12029413e-02],\n",
        "       [  2.09241160e-02],\n",
        "       [  2.06467886e-02],\n",
        "       [  2.03709172e-02],\n",
        "       [  2.00964595e-02],\n",
        "       [  1.98233736e-02],\n",
        "       [  1.95516173e-02],\n",
        "       [  1.92811486e-02],\n",
        "       [  1.90119255e-02],\n",
        "       [  1.87439058e-02],\n",
        "       [  1.84770475e-02],\n",
        "       [  1.82113085e-02],\n",
        "       [  1.79466467e-02],\n",
        "       [  1.76830201e-02],\n",
        "       [  1.74203866e-02],\n",
        "       [  1.71587042e-02],\n",
        "       [  1.68979307e-02],\n",
        "       [  1.66380241e-02],\n",
        "       [  1.63789424e-02],\n",
        "       [  1.61206434e-02],\n",
        "       [  1.58631048e-02],\n",
        "       [  1.56066669e-02],\n",
        "       [  1.53514618e-02],\n",
        "       [  1.50974833e-02],\n",
        "       [  1.48447253e-02],\n",
        "       [  1.45931817e-02],\n",
        "       [  1.43428463e-02],\n",
        "       [  1.40937130e-02],\n",
        "       [  1.38457757e-02],\n",
        "       [  1.35990283e-02],\n",
        "       [  1.33534646e-02],\n",
        "       [  1.31090786e-02],\n",
        "       [  1.28658640e-02],\n",
        "       [  1.26238148e-02],\n",
        "       [  1.23829249e-02],\n",
        "       [  1.21431880e-02],\n",
        "       [  1.19045981e-02],\n",
        "       [  1.16671491e-02],\n",
        "       [  1.14308348e-02],\n",
        "       [  1.11956491e-02],\n",
        "       [  1.09615859e-02],\n",
        "       [  1.07286391e-02],\n",
        "       [  1.04968024e-02],\n",
        "       [  1.02660699e-02],\n",
        "       [  1.00364354e-02],\n",
        "       [  9.80789264e-03],\n",
        "       [  9.58043565e-03],\n",
        "       [  9.35405825e-03],\n",
        "       [  9.12875432e-03],\n",
        "       [  8.90451774e-03],\n",
        "       [  8.68134236e-03],\n",
        "       [  8.45922208e-03],\n",
        "       [  8.23815076e-03],\n",
        "       [  8.01812228e-03],\n",
        "       [  7.79913050e-03],\n",
        "       [  7.58116931e-03],\n",
        "       [  7.36423258e-03],\n",
        "       [  7.14831418e-03],\n",
        "       [  6.93340798e-03],\n",
        "       [  6.71950786e-03],\n",
        "       [  6.50660769e-03],\n",
        "       [  6.29470135e-03],\n",
        "       [  6.08378271e-03],\n",
        "       [  5.87384565e-03],\n",
        "       [  5.66488403e-03],\n",
        "       [  5.45689173e-03],\n",
        "       [  5.24986263e-03],\n",
        "       [  5.04379059e-03],\n",
        "       [  4.83866950e-03],\n",
        "       [  4.63449322e-03],\n",
        "       [  4.43125563e-03],\n",
        "       [  4.22895061e-03],\n",
        "       [  4.02757202e-03],\n",
        "       [  3.82711375e-03],\n",
        "       [  3.62756965e-03],\n",
        "       [  3.42893362e-03],\n",
        "       [  3.23119952e-03],\n",
        "       [  3.03436122e-03],\n",
        "       [  2.83841261e-03],\n",
        "       [  2.64334754e-03],\n",
        "       [  2.44915991e-03],\n",
        "       [  2.25584357e-03],\n",
        "       [  2.06339241e-03],\n",
        "       [  1.87180029e-03],\n",
        "       [  1.68106110e-03],\n",
        "       [  1.49116870e-03],\n",
        "       [  1.30211698e-03],\n",
        "       [  1.11389979e-03],\n",
        "       [  9.26511023e-04],\n",
        "       [  7.39944544e-04],\n",
        "       [  5.54194230e-04],\n",
        "       [  3.69253954e-04],\n",
        "       [  1.85117589e-04],\n",
        "       [  1.77900952e-06],\n",
        "       [ -1.80767911e-04],\n",
        "       [ -3.62529299e-04],\n",
        "       [ -5.43511281e-04],\n",
        "       [ -7.23719983e-04],\n",
        "       [ -9.03161531e-04],\n",
        "       [ -1.08184205e-03],\n",
        "       [ -1.25976767e-03],\n",
        "       [ -1.43694451e-03],\n",
        "       [ -1.61337871e-03],\n",
        "       [ -1.78907638e-03],\n",
        "       [ -1.96404366e-03],\n",
        "       [ -2.13828667e-03],\n",
        "       [ -2.31181153e-03],\n",
        "       [ -2.48462438e-03],\n",
        "       [ -2.65673133e-03],\n",
        "       [ -2.82813852e-03],\n",
        "       [ -2.99885207e-03],\n",
        "       [ -3.16887811e-03],\n",
        "       [ -3.33822277e-03],\n",
        "       [ -3.50689216e-03],\n",
        "       [ -3.67489242e-03],\n",
        "       [ -3.84222968e-03],\n",
        "       [ -4.00891005e-03],\n",
        "       [ -4.17493967e-03]]), action=277.51479314892282, fRatio=7.3570140322926765e-34, saved_steps=[]),\n",
        " 'low_phase': 0,\n",
        " 'low_vev': array([ 32.68082143]),\n",
        " 'trantype': 1}"
       ]
      }
     ],
     "prompt_number": 26
    },
    {
     "cell_type": "code",
     "collapsed": false,
     "input": [],
     "language": "python",
     "metadata": {},
     "outputs": []
    }
   ],
   "metadata": {}
  }
 ]
}